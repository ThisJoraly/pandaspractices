{
 "cells": [
  {
   "cell_type": "code",
   "execution_count": 2,
   "id": "initial_id",
   "metadata": {
    "collapsed": true,
    "ExecuteTime": {
     "end_time": "2023-12-20T18:56:07.455258400Z",
     "start_time": "2023-12-20T18:56:06.738100600Z"
    }
   },
   "outputs": [
    {
     "data": {
      "text/plain": "                   NAME     CLASS GAME PROGRESSION  DPS (SINGLE TARGET)  \\\n0                Zenith     Melee    Post-Moonlord                 4800   \n1            Last Prism      Mage    Post-Moonlord                 3657   \n2            Star Wrath     Melee    Post-Moonlord                 2700   \n3             Terrarian     Melee    Post-Moonlord                 2200   \n4              Meowmere     Melee    Post-Moonlord                 2100   \n..                  ...       ...              ...                  ...   \n390         Paper Plane    Ranger         Pre-Boss                   14   \n391         Finch Staff  Summoner         Pre-Boss                   10   \n392      Flameburst Rod  Summoner         Pre-Boss                    8   \n393         Flinx Staff  Summoner         Pre-Boss                    8   \n394  Lightning Aura Rod  Summoner         Pre-Boss                    8   \n\n     DPS (MULTI TARGET)  DPS (SINGLE TARGET + PROYECTILE ONLY)  \\\n0               13000.0                                    NaN   \n1                1142.0                                    NaN   \n2                5800.0                                 1500.0   \n3                4600.0                                  700.0   \n4                6400.0                                 1300.0   \n..                  ...                                    ...   \n390                 NaN                                    NaN   \n391                25.0                                    NaN   \n392                18.0                                    NaN   \n393                70.0                                    NaN   \n394                24.0                                    NaN   \n\n     DPS (MULTI TARGET + PROYECTILE ONLY)      OBSERVATIONS  \n0                                     NaN               NaN  \n1                                     NaN     Fully charged  \n2                                  3700.0               NaN  \n3                                  1000.0               NaN  \n4                                  3400.0               NaN  \n..                                    ...               ...  \n390                                   NaN   Does not pierce  \n391                                   NaN               NaN  \n392                                   NaN  Only two dummies  \n393                                   NaN               NaN  \n394                                   NaN               NaN  \n\n[395 rows x 8 columns]",
      "text/html": "<div>\n<style scoped>\n    .dataframe tbody tr th:only-of-type {\n        vertical-align: middle;\n    }\n\n    .dataframe tbody tr th {\n        vertical-align: top;\n    }\n\n    .dataframe thead th {\n        text-align: right;\n    }\n</style>\n<table border=\"1\" class=\"dataframe\">\n  <thead>\n    <tr style=\"text-align: right;\">\n      <th></th>\n      <th>NAME</th>\n      <th>CLASS</th>\n      <th>GAME PROGRESSION</th>\n      <th>DPS (SINGLE TARGET)</th>\n      <th>DPS (MULTI TARGET)</th>\n      <th>DPS (SINGLE TARGET + PROYECTILE ONLY)</th>\n      <th>DPS (MULTI TARGET + PROYECTILE ONLY)</th>\n      <th>OBSERVATIONS</th>\n    </tr>\n  </thead>\n  <tbody>\n    <tr>\n      <th>0</th>\n      <td>Zenith</td>\n      <td>Melee</td>\n      <td>Post-Moonlord</td>\n      <td>4800</td>\n      <td>13000.0</td>\n      <td>NaN</td>\n      <td>NaN</td>\n      <td>NaN</td>\n    </tr>\n    <tr>\n      <th>1</th>\n      <td>Last Prism</td>\n      <td>Mage</td>\n      <td>Post-Moonlord</td>\n      <td>3657</td>\n      <td>1142.0</td>\n      <td>NaN</td>\n      <td>NaN</td>\n      <td>Fully charged</td>\n    </tr>\n    <tr>\n      <th>2</th>\n      <td>Star Wrath</td>\n      <td>Melee</td>\n      <td>Post-Moonlord</td>\n      <td>2700</td>\n      <td>5800.0</td>\n      <td>1500.0</td>\n      <td>3700.0</td>\n      <td>NaN</td>\n    </tr>\n    <tr>\n      <th>3</th>\n      <td>Terrarian</td>\n      <td>Melee</td>\n      <td>Post-Moonlord</td>\n      <td>2200</td>\n      <td>4600.0</td>\n      <td>700.0</td>\n      <td>1000.0</td>\n      <td>NaN</td>\n    </tr>\n    <tr>\n      <th>4</th>\n      <td>Meowmere</td>\n      <td>Melee</td>\n      <td>Post-Moonlord</td>\n      <td>2100</td>\n      <td>6400.0</td>\n      <td>1300.0</td>\n      <td>3400.0</td>\n      <td>NaN</td>\n    </tr>\n    <tr>\n      <th>...</th>\n      <td>...</td>\n      <td>...</td>\n      <td>...</td>\n      <td>...</td>\n      <td>...</td>\n      <td>...</td>\n      <td>...</td>\n      <td>...</td>\n    </tr>\n    <tr>\n      <th>390</th>\n      <td>Paper Plane</td>\n      <td>Ranger</td>\n      <td>Pre-Boss</td>\n      <td>14</td>\n      <td>NaN</td>\n      <td>NaN</td>\n      <td>NaN</td>\n      <td>Does not pierce</td>\n    </tr>\n    <tr>\n      <th>391</th>\n      <td>Finch Staff</td>\n      <td>Summoner</td>\n      <td>Pre-Boss</td>\n      <td>10</td>\n      <td>25.0</td>\n      <td>NaN</td>\n      <td>NaN</td>\n      <td>NaN</td>\n    </tr>\n    <tr>\n      <th>392</th>\n      <td>Flameburst Rod</td>\n      <td>Summoner</td>\n      <td>Pre-Boss</td>\n      <td>8</td>\n      <td>18.0</td>\n      <td>NaN</td>\n      <td>NaN</td>\n      <td>Only two dummies</td>\n    </tr>\n    <tr>\n      <th>393</th>\n      <td>Flinx Staff</td>\n      <td>Summoner</td>\n      <td>Pre-Boss</td>\n      <td>8</td>\n      <td>70.0</td>\n      <td>NaN</td>\n      <td>NaN</td>\n      <td>NaN</td>\n    </tr>\n    <tr>\n      <th>394</th>\n      <td>Lightning Aura Rod</td>\n      <td>Summoner</td>\n      <td>Pre-Boss</td>\n      <td>8</td>\n      <td>24.0</td>\n      <td>NaN</td>\n      <td>NaN</td>\n      <td>NaN</td>\n    </tr>\n  </tbody>\n</table>\n<p>395 rows × 8 columns</p>\n</div>"
     },
     "execution_count": 2,
     "metadata": {},
     "output_type": "execute_result"
    }
   ],
   "source": [
    "import pandas as pd\n",
    "terraria = pd.read_csv('terraria.csv')\n",
    "\n",
    "terraria"
   ]
  },
  {
   "cell_type": "markdown",
   "source": [
    "# Практическая работа 5. Анализ датасета\n",
    "\n",
    "    Цель работы: проанализировать свой датасет (в данном случае оружия из игры Terraria), а именно: вывести весь датасет и описать его, вывести размерноть массива, вывести наименование всех колонок, написать что они означают в датасете, вывести все уникальные значения, отсортировать по определенным параметрам, удалить ненужные столбцы или строчки, заменить определенные значения в датасете (например, пустые), удалить дубликаты, провести анализ с помощью функций info, провести анализ с помощью функций describe, провести выборку данных по строкам и столбцам с помощью loc, сохранить новый датасет, сделать вывод по каждому пункту и описать все.\n",
    "\n",
    "---\n",
    "\n",
    "Для начала нам необходимо импортировать библиотеку Pandas.\n",
    "Следом мы передаем в переменную terraria read_csv с pandas для чтения файла\n",
    "При вызове переменной мы получаем список всех строк со значениями во всех столбцах"
   ],
   "metadata": {
    "collapsed": false
   },
   "id": "eeafd1d114977347"
  },
  {
   "cell_type": "code",
   "execution_count": 2,
   "outputs": [
    {
     "data": {
      "text/plain": "                      NAME   CLASS GAME PROGRESSION  DPS (SINGLE TARGET)  \\\n0                   Zenith   Melee    Post-Moonlord                 4800   \n1               Last Prism    Mage    Post-Moonlord                 3657   \n2               Star Wrath   Melee    Post-Moonlord                 2700   \n3                Terrarian   Melee    Post-Moonlord                 2200   \n4                 Meowmere   Melee    Post-Moonlord                 2100   \n5              Lunar Flare    Mage    Post-Moonlord                 1974   \n6         Celebration Mk.2  Ranger    Post-Moonlord                 1709   \n7           Solar Eruption   Melee     Post-Cultist                 1500   \n8               Bubble Gun    Mage         Post-WoF                 1467   \n9                Starlight   Melee         Post-EoL                 1300   \n10                 S.D.M.G  Ranger    Post-Moonlord                 1256   \n11          Nebula Arcanum    Mage     Post-Cultist                 1254   \n12       Laser Machine Gun    Mage       Post-Golem                 1210   \n13           Flying Dragon   Melee    Post-Plantera                 1200   \n14                Daybreak   Melee     Post-Cultist                 1100   \n15            Nebula Blaze    Mage     Post-Cultist                 1094   \n16              Razor Pine    Mage    Post-Plantera                 1067   \n17            Stellar Tune    Mage         Post-EoL                 1056   \n18           Vortex Beater  Ranger     Post-Cultist                  976   \n19  Charged Blaster Cannon    Mage       Post-Golem                  949   \n\n    DPS (MULTI TARGET)  DPS (SINGLE TARGET + PROYECTILE ONLY)  \\\n0              13000.0                                    NaN   \n1               1142.0                                    NaN   \n2               5800.0                                 1500.0   \n3               4600.0                                  700.0   \n4               6400.0                                 1300.0   \n5               5543.0                                    NaN   \n6               2821.0                                    NaN   \n7               4300.0                                    NaN   \n8                  NaN                                    NaN   \n9               4000.0                                    NaN   \n10                 NaN                                    NaN   \n11              2183.0                                    NaN   \n12                 NaN                                    NaN   \n13              3100.0                                  600.0   \n14                 NaN                                    NaN   \n15              2123.0                                    NaN   \n16                 NaN                                    NaN   \n17              3073.0                                    NaN   \n18              1060.0                                    NaN   \n19              2620.0                                    NaN   \n\n    DPS (MULTI TARGET + PROYECTILE ONLY)         OBSERVATIONS  \n0                                    NaN                  NaN  \n1                                    NaN        Fully charged  \n2                                 3700.0                  NaN  \n3                                 1000.0                  NaN  \n4                                 3400.0                  NaN  \n5                                    NaN                  NaN  \n6                                    NaN   If all rockets hit  \n7                                    NaN      Close to target  \n8                                    NaN      Does not pierce  \n9                                    NaN                  NaN  \n10                                   NaN      Does not pierce  \n11                                   NaN                  NaN  \n12                                   NaN      Does not pierce  \n13                                2100.0                  NaN  \n14                                   NaN       Doesn't Pierce  \n15                                   NaN                  NaN  \n16                                   NaN                  NaN  \n17                                   NaN                  NaN  \n18                                   NaN  If all bullets  hit  \n19                                   NaN          Full charge  ",
      "text/html": "<div>\n<style scoped>\n    .dataframe tbody tr th:only-of-type {\n        vertical-align: middle;\n    }\n\n    .dataframe tbody tr th {\n        vertical-align: top;\n    }\n\n    .dataframe thead th {\n        text-align: right;\n    }\n</style>\n<table border=\"1\" class=\"dataframe\">\n  <thead>\n    <tr style=\"text-align: right;\">\n      <th></th>\n      <th>NAME</th>\n      <th>CLASS</th>\n      <th>GAME PROGRESSION</th>\n      <th>DPS (SINGLE TARGET)</th>\n      <th>DPS (MULTI TARGET)</th>\n      <th>DPS (SINGLE TARGET + PROYECTILE ONLY)</th>\n      <th>DPS (MULTI TARGET + PROYECTILE ONLY)</th>\n      <th>OBSERVATIONS</th>\n    </tr>\n  </thead>\n  <tbody>\n    <tr>\n      <th>0</th>\n      <td>Zenith</td>\n      <td>Melee</td>\n      <td>Post-Moonlord</td>\n      <td>4800</td>\n      <td>13000.0</td>\n      <td>NaN</td>\n      <td>NaN</td>\n      <td>NaN</td>\n    </tr>\n    <tr>\n      <th>1</th>\n      <td>Last Prism</td>\n      <td>Mage</td>\n      <td>Post-Moonlord</td>\n      <td>3657</td>\n      <td>1142.0</td>\n      <td>NaN</td>\n      <td>NaN</td>\n      <td>Fully charged</td>\n    </tr>\n    <tr>\n      <th>2</th>\n      <td>Star Wrath</td>\n      <td>Melee</td>\n      <td>Post-Moonlord</td>\n      <td>2700</td>\n      <td>5800.0</td>\n      <td>1500.0</td>\n      <td>3700.0</td>\n      <td>NaN</td>\n    </tr>\n    <tr>\n      <th>3</th>\n      <td>Terrarian</td>\n      <td>Melee</td>\n      <td>Post-Moonlord</td>\n      <td>2200</td>\n      <td>4600.0</td>\n      <td>700.0</td>\n      <td>1000.0</td>\n      <td>NaN</td>\n    </tr>\n    <tr>\n      <th>4</th>\n      <td>Meowmere</td>\n      <td>Melee</td>\n      <td>Post-Moonlord</td>\n      <td>2100</td>\n      <td>6400.0</td>\n      <td>1300.0</td>\n      <td>3400.0</td>\n      <td>NaN</td>\n    </tr>\n    <tr>\n      <th>5</th>\n      <td>Lunar Flare</td>\n      <td>Mage</td>\n      <td>Post-Moonlord</td>\n      <td>1974</td>\n      <td>5543.0</td>\n      <td>NaN</td>\n      <td>NaN</td>\n      <td>NaN</td>\n    </tr>\n    <tr>\n      <th>6</th>\n      <td>Celebration Mk.2</td>\n      <td>Ranger</td>\n      <td>Post-Moonlord</td>\n      <td>1709</td>\n      <td>2821.0</td>\n      <td>NaN</td>\n      <td>NaN</td>\n      <td>If all rockets hit</td>\n    </tr>\n    <tr>\n      <th>7</th>\n      <td>Solar Eruption</td>\n      <td>Melee</td>\n      <td>Post-Cultist</td>\n      <td>1500</td>\n      <td>4300.0</td>\n      <td>NaN</td>\n      <td>NaN</td>\n      <td>Close to target</td>\n    </tr>\n    <tr>\n      <th>8</th>\n      <td>Bubble Gun</td>\n      <td>Mage</td>\n      <td>Post-WoF</td>\n      <td>1467</td>\n      <td>NaN</td>\n      <td>NaN</td>\n      <td>NaN</td>\n      <td>Does not pierce</td>\n    </tr>\n    <tr>\n      <th>9</th>\n      <td>Starlight</td>\n      <td>Melee</td>\n      <td>Post-EoL</td>\n      <td>1300</td>\n      <td>4000.0</td>\n      <td>NaN</td>\n      <td>NaN</td>\n      <td>NaN</td>\n    </tr>\n    <tr>\n      <th>10</th>\n      <td>S.D.M.G</td>\n      <td>Ranger</td>\n      <td>Post-Moonlord</td>\n      <td>1256</td>\n      <td>NaN</td>\n      <td>NaN</td>\n      <td>NaN</td>\n      <td>Does not pierce</td>\n    </tr>\n    <tr>\n      <th>11</th>\n      <td>Nebula Arcanum</td>\n      <td>Mage</td>\n      <td>Post-Cultist</td>\n      <td>1254</td>\n      <td>2183.0</td>\n      <td>NaN</td>\n      <td>NaN</td>\n      <td>NaN</td>\n    </tr>\n    <tr>\n      <th>12</th>\n      <td>Laser Machine Gun</td>\n      <td>Mage</td>\n      <td>Post-Golem</td>\n      <td>1210</td>\n      <td>NaN</td>\n      <td>NaN</td>\n      <td>NaN</td>\n      <td>Does not pierce</td>\n    </tr>\n    <tr>\n      <th>13</th>\n      <td>Flying Dragon</td>\n      <td>Melee</td>\n      <td>Post-Plantera</td>\n      <td>1200</td>\n      <td>3100.0</td>\n      <td>600.0</td>\n      <td>2100.0</td>\n      <td>NaN</td>\n    </tr>\n    <tr>\n      <th>14</th>\n      <td>Daybreak</td>\n      <td>Melee</td>\n      <td>Post-Cultist</td>\n      <td>1100</td>\n      <td>NaN</td>\n      <td>NaN</td>\n      <td>NaN</td>\n      <td>Doesn't Pierce</td>\n    </tr>\n    <tr>\n      <th>15</th>\n      <td>Nebula Blaze</td>\n      <td>Mage</td>\n      <td>Post-Cultist</td>\n      <td>1094</td>\n      <td>2123.0</td>\n      <td>NaN</td>\n      <td>NaN</td>\n      <td>NaN</td>\n    </tr>\n    <tr>\n      <th>16</th>\n      <td>Razor Pine</td>\n      <td>Mage</td>\n      <td>Post-Plantera</td>\n      <td>1067</td>\n      <td>NaN</td>\n      <td>NaN</td>\n      <td>NaN</td>\n      <td>NaN</td>\n    </tr>\n    <tr>\n      <th>17</th>\n      <td>Stellar Tune</td>\n      <td>Mage</td>\n      <td>Post-EoL</td>\n      <td>1056</td>\n      <td>3073.0</td>\n      <td>NaN</td>\n      <td>NaN</td>\n      <td>NaN</td>\n    </tr>\n    <tr>\n      <th>18</th>\n      <td>Vortex Beater</td>\n      <td>Ranger</td>\n      <td>Post-Cultist</td>\n      <td>976</td>\n      <td>1060.0</td>\n      <td>NaN</td>\n      <td>NaN</td>\n      <td>If all bullets  hit</td>\n    </tr>\n    <tr>\n      <th>19</th>\n      <td>Charged Blaster Cannon</td>\n      <td>Mage</td>\n      <td>Post-Golem</td>\n      <td>949</td>\n      <td>2620.0</td>\n      <td>NaN</td>\n      <td>NaN</td>\n      <td>Full charge</td>\n    </tr>\n  </tbody>\n</table>\n</div>"
     },
     "execution_count": 2,
     "metadata": {},
     "output_type": "execute_result"
    }
   ],
   "source": [
    "terraria.head(20)"
   ],
   "metadata": {
    "collapsed": false,
    "ExecuteTime": {
     "end_time": "2023-12-19T18:31:01.010176200Z",
     "start_time": "2023-12-19T18:31:00.864448800Z"
    }
   },
   "id": "f1d2636939bd5a39"
  },
  {
   "cell_type": "markdown",
   "source": [
    "Принимаем первые 20 значений в 'terraria'."
   ],
   "metadata": {
    "collapsed": false
   },
   "id": "ff04cf8ac2782aea"
  },
  {
   "cell_type": "code",
   "execution_count": 3,
   "outputs": [
    {
     "data": {
      "text/plain": "                    NAME     CLASS GAME PROGRESSION  DPS (SINGLE TARGET)  \\\n375    Rich Mahagony Bow    Ranger         Pre-Boss                   22   \n376          Topaz Staff      Mage         Pre-Boss                   22   \n377    Boreal Wood Sword     Melee         Pre-Boss                   20   \n378       Breathing Reed     Melee         Pre-Boss                   20   \n379    Houndius Shootius  Summoner   Post-Deerclops                   20   \n380  Lightning Aura Cane  Summoner   Post-Destroyer                   20   \n381  Rich Mahogany Sword     Melee         Pre-Boss                   20   \n382           Wooden Bow    Ranger         Pre-Boss                   20   \n383         Wooden Sword     Melee         Pre-Boss                   20   \n384          Wooden Yoyo     Melee         Pre-Boss                   20   \n385       Amethyst Staff      Mage         Pre-Boss                   18   \n386         Cactus Sword     Melee         Pre-Boss                   18   \n387   Explosive Trap Rod  Summoner         Pre-Boss                   15   \n388         Hornet Staff  Summoner    Post-QueenBee                   15   \n389            Imp Staff  Summoner  Post-Brain/Worm                   15   \n390          Paper Plane    Ranger         Pre-Boss                   14   \n391          Finch Staff  Summoner         Pre-Boss                   10   \n392       Flameburst Rod  Summoner         Pre-Boss                    8   \n393          Flinx Staff  Summoner         Pre-Boss                    8   \n394   Lightning Aura Rod  Summoner         Pre-Boss                    8   \n\n     DPS (MULTI TARGET)  DPS (SINGLE TARGET + PROYECTILE ONLY)  \\\n375                 NaN                                    NaN   \n376                 NaN                                    NaN   \n377                70.0                                    NaN   \n378                60.0                                    NaN   \n379                 NaN                                    NaN   \n380                60.0                                    NaN   \n381                70.0                                    NaN   \n382                 NaN                                    NaN   \n383                60.0                                    NaN   \n384                30.0                                    NaN   \n385                 NaN                                    NaN   \n386                55.0                                    NaN   \n387                45.0                                    NaN   \n388                 NaN                                    NaN   \n389                75.0                                    NaN   \n390                 NaN                                    NaN   \n391                25.0                                    NaN   \n392                18.0                                    NaN   \n393                70.0                                    NaN   \n394                24.0                                    NaN   \n\n     DPS (MULTI TARGET + PROYECTILE ONLY)      OBSERVATIONS  \n375                                   NaN   Does not pierce  \n376                                   NaN   Does not pierce  \n377                                   NaN               NaN  \n378                                   NaN               NaN  \n379                                   NaN   Does not pierce  \n380                                   NaN               NaN  \n381                                   NaN               NaN  \n382                                   NaN   Does not pierce  \n383                                   NaN               NaN  \n384                                   NaN    Only 2 Dummies  \n385                                   NaN   Does not pierce  \n386                                   NaN               NaN  \n387                                   NaN               NaN  \n388                                   NaN   Does not pierce  \n389                                   NaN               NaN  \n390                                   NaN   Does not pierce  \n391                                   NaN               NaN  \n392                                   NaN  Only two dummies  \n393                                   NaN               NaN  \n394                                   NaN               NaN  ",
      "text/html": "<div>\n<style scoped>\n    .dataframe tbody tr th:only-of-type {\n        vertical-align: middle;\n    }\n\n    .dataframe tbody tr th {\n        vertical-align: top;\n    }\n\n    .dataframe thead th {\n        text-align: right;\n    }\n</style>\n<table border=\"1\" class=\"dataframe\">\n  <thead>\n    <tr style=\"text-align: right;\">\n      <th></th>\n      <th>NAME</th>\n      <th>CLASS</th>\n      <th>GAME PROGRESSION</th>\n      <th>DPS (SINGLE TARGET)</th>\n      <th>DPS (MULTI TARGET)</th>\n      <th>DPS (SINGLE TARGET + PROYECTILE ONLY)</th>\n      <th>DPS (MULTI TARGET + PROYECTILE ONLY)</th>\n      <th>OBSERVATIONS</th>\n    </tr>\n  </thead>\n  <tbody>\n    <tr>\n      <th>375</th>\n      <td>Rich Mahagony Bow</td>\n      <td>Ranger</td>\n      <td>Pre-Boss</td>\n      <td>22</td>\n      <td>NaN</td>\n      <td>NaN</td>\n      <td>NaN</td>\n      <td>Does not pierce</td>\n    </tr>\n    <tr>\n      <th>376</th>\n      <td>Topaz Staff</td>\n      <td>Mage</td>\n      <td>Pre-Boss</td>\n      <td>22</td>\n      <td>NaN</td>\n      <td>NaN</td>\n      <td>NaN</td>\n      <td>Does not pierce</td>\n    </tr>\n    <tr>\n      <th>377</th>\n      <td>Boreal Wood Sword</td>\n      <td>Melee</td>\n      <td>Pre-Boss</td>\n      <td>20</td>\n      <td>70.0</td>\n      <td>NaN</td>\n      <td>NaN</td>\n      <td>NaN</td>\n    </tr>\n    <tr>\n      <th>378</th>\n      <td>Breathing Reed</td>\n      <td>Melee</td>\n      <td>Pre-Boss</td>\n      <td>20</td>\n      <td>60.0</td>\n      <td>NaN</td>\n      <td>NaN</td>\n      <td>NaN</td>\n    </tr>\n    <tr>\n      <th>379</th>\n      <td>Houndius Shootius</td>\n      <td>Summoner</td>\n      <td>Post-Deerclops</td>\n      <td>20</td>\n      <td>NaN</td>\n      <td>NaN</td>\n      <td>NaN</td>\n      <td>Does not pierce</td>\n    </tr>\n    <tr>\n      <th>380</th>\n      <td>Lightning Aura Cane</td>\n      <td>Summoner</td>\n      <td>Post-Destroyer</td>\n      <td>20</td>\n      <td>60.0</td>\n      <td>NaN</td>\n      <td>NaN</td>\n      <td>NaN</td>\n    </tr>\n    <tr>\n      <th>381</th>\n      <td>Rich Mahogany Sword</td>\n      <td>Melee</td>\n      <td>Pre-Boss</td>\n      <td>20</td>\n      <td>70.0</td>\n      <td>NaN</td>\n      <td>NaN</td>\n      <td>NaN</td>\n    </tr>\n    <tr>\n      <th>382</th>\n      <td>Wooden Bow</td>\n      <td>Ranger</td>\n      <td>Pre-Boss</td>\n      <td>20</td>\n      <td>NaN</td>\n      <td>NaN</td>\n      <td>NaN</td>\n      <td>Does not pierce</td>\n    </tr>\n    <tr>\n      <th>383</th>\n      <td>Wooden Sword</td>\n      <td>Melee</td>\n      <td>Pre-Boss</td>\n      <td>20</td>\n      <td>60.0</td>\n      <td>NaN</td>\n      <td>NaN</td>\n      <td>NaN</td>\n    </tr>\n    <tr>\n      <th>384</th>\n      <td>Wooden Yoyo</td>\n      <td>Melee</td>\n      <td>Pre-Boss</td>\n      <td>20</td>\n      <td>30.0</td>\n      <td>NaN</td>\n      <td>NaN</td>\n      <td>Only 2 Dummies</td>\n    </tr>\n    <tr>\n      <th>385</th>\n      <td>Amethyst Staff</td>\n      <td>Mage</td>\n      <td>Pre-Boss</td>\n      <td>18</td>\n      <td>NaN</td>\n      <td>NaN</td>\n      <td>NaN</td>\n      <td>Does not pierce</td>\n    </tr>\n    <tr>\n      <th>386</th>\n      <td>Cactus Sword</td>\n      <td>Melee</td>\n      <td>Pre-Boss</td>\n      <td>18</td>\n      <td>55.0</td>\n      <td>NaN</td>\n      <td>NaN</td>\n      <td>NaN</td>\n    </tr>\n    <tr>\n      <th>387</th>\n      <td>Explosive Trap Rod</td>\n      <td>Summoner</td>\n      <td>Pre-Boss</td>\n      <td>15</td>\n      <td>45.0</td>\n      <td>NaN</td>\n      <td>NaN</td>\n      <td>NaN</td>\n    </tr>\n    <tr>\n      <th>388</th>\n      <td>Hornet Staff</td>\n      <td>Summoner</td>\n      <td>Post-QueenBee</td>\n      <td>15</td>\n      <td>NaN</td>\n      <td>NaN</td>\n      <td>NaN</td>\n      <td>Does not pierce</td>\n    </tr>\n    <tr>\n      <th>389</th>\n      <td>Imp Staff</td>\n      <td>Summoner</td>\n      <td>Post-Brain/Worm</td>\n      <td>15</td>\n      <td>75.0</td>\n      <td>NaN</td>\n      <td>NaN</td>\n      <td>NaN</td>\n    </tr>\n    <tr>\n      <th>390</th>\n      <td>Paper Plane</td>\n      <td>Ranger</td>\n      <td>Pre-Boss</td>\n      <td>14</td>\n      <td>NaN</td>\n      <td>NaN</td>\n      <td>NaN</td>\n      <td>Does not pierce</td>\n    </tr>\n    <tr>\n      <th>391</th>\n      <td>Finch Staff</td>\n      <td>Summoner</td>\n      <td>Pre-Boss</td>\n      <td>10</td>\n      <td>25.0</td>\n      <td>NaN</td>\n      <td>NaN</td>\n      <td>NaN</td>\n    </tr>\n    <tr>\n      <th>392</th>\n      <td>Flameburst Rod</td>\n      <td>Summoner</td>\n      <td>Pre-Boss</td>\n      <td>8</td>\n      <td>18.0</td>\n      <td>NaN</td>\n      <td>NaN</td>\n      <td>Only two dummies</td>\n    </tr>\n    <tr>\n      <th>393</th>\n      <td>Flinx Staff</td>\n      <td>Summoner</td>\n      <td>Pre-Boss</td>\n      <td>8</td>\n      <td>70.0</td>\n      <td>NaN</td>\n      <td>NaN</td>\n      <td>NaN</td>\n    </tr>\n    <tr>\n      <th>394</th>\n      <td>Lightning Aura Rod</td>\n      <td>Summoner</td>\n      <td>Pre-Boss</td>\n      <td>8</td>\n      <td>24.0</td>\n      <td>NaN</td>\n      <td>NaN</td>\n      <td>NaN</td>\n    </tr>\n  </tbody>\n</table>\n</div>"
     },
     "execution_count": 3,
     "metadata": {},
     "output_type": "execute_result"
    }
   ],
   "source": [
    "terraria.tail(20)"
   ],
   "metadata": {
    "collapsed": false,
    "ExecuteTime": {
     "end_time": "2023-12-19T18:31:15.844875100Z",
     "start_time": "2023-12-19T18:31:15.609306300Z"
    }
   },
   "id": "8d27ce3179624260"
  },
  {
   "cell_type": "markdown",
   "source": [
    "Принимаем последние 20 значений в 'terraria'."
   ],
   "metadata": {
    "collapsed": false
   },
   "id": "b1bcf0d1c0632ef6"
  },
  {
   "cell_type": "code",
   "execution_count": 4,
   "outputs": [
    {
     "name": "stdout",
     "output_type": "stream",
     "text": [
      "<class 'pandas.core.frame.DataFrame'>\n",
      "RangeIndex: 395 entries, 0 to 394\n",
      "Data columns (total 8 columns):\n",
      " #   Column                                 Non-Null Count  Dtype  \n",
      "---  ------                                 --------------  -----  \n",
      " 0   NAME                                   395 non-null    object \n",
      " 1   CLASS                                  395 non-null    object \n",
      " 2   GAME PROGRESSION                       395 non-null    object \n",
      " 3   DPS (SINGLE TARGET)                    395 non-null    int64  \n",
      " 4   DPS (MULTI TARGET)                     309 non-null    float64\n",
      " 5   DPS (SINGLE TARGET + PROYECTILE ONLY)  25 non-null     float64\n",
      " 6   DPS (MULTI TARGET + PROYECTILE ONLY)   19 non-null     float64\n",
      " 7   OBSERVATIONS                           140 non-null    object \n",
      "dtypes: float64(3), int64(1), object(4)\n",
      "memory usage: 24.8+ KB\n"
     ]
    }
   ],
   "source": [
    "terraria.info()"
   ],
   "metadata": {
    "collapsed": false,
    "ExecuteTime": {
     "end_time": "2023-12-19T18:31:34.148616Z",
     "start_time": "2023-12-19T18:31:33.988227200Z"
    }
   },
   "id": "d4637793b5552ee9"
  },
  {
   "cell_type": "markdown",
   "source": [
    "С помощью info() мы выводим подробную информацию о нашем 'фрейме'.\n",
    "А если быть точнее то информацию о колонках, количестве элементов в них и типе.\n",
    "А также последней строкой мы можем наблюдать использование памяти."
   ],
   "metadata": {
    "collapsed": false
   },
   "id": "e80c767d3d350848"
  },
  {
   "cell_type": "code",
   "execution_count": 5,
   "outputs": [
    {
     "data": {
      "text/plain": "NAME                                     395\nCLASS                                      4\nGAME PROGRESSION                          16\nDPS (SINGLE TARGET)                      165\nDPS (MULTI TARGET)                       156\nDPS (SINGLE TARGET + PROYECTILE ONLY)     15\nDPS (MULTI TARGET + PROYECTILE ONLY)      17\nOBSERVATIONS                              34\ndtype: int64"
     },
     "execution_count": 5,
     "metadata": {},
     "output_type": "execute_result"
    }
   ],
   "source": [
    "terraria.nunique()"
   ],
   "metadata": {
    "collapsed": false,
    "ExecuteTime": {
     "end_time": "2023-12-19T18:32:16.795675500Z",
     "start_time": "2023-12-19T18:32:16.780555400Z"
    }
   },
   "id": "734ae0bb717fb68b"
  },
  {
   "cell_type": "markdown",
   "source": [
    "С помощью nunique() мы наблюдаем сколько уникальных значений в каждом столбце."
   ],
   "metadata": {
    "collapsed": false
   },
   "id": "1c050ecec86c37b2"
  },
  {
   "cell_type": "code",
   "execution_count": 7,
   "outputs": [
    {
     "data": {
      "text/plain": "165"
     },
     "execution_count": 7,
     "metadata": {},
     "output_type": "execute_result"
    }
   ],
   "source": [
    "# NAME,CLASS,GAME PROGRESSION,DPS (SINGLE TARGET),DPS (MULTI TARGET),DPS (SINGLE TARGET + PROYECTILE ONLY),DPS (MULTI TARGET + PROYECTILE ONLY),OBSERVATIONS\n",
    "terraria[\"NAME\"].nunique()"
   ],
   "metadata": {
    "collapsed": false,
    "ExecuteTime": {
     "end_time": "2023-12-19T18:33:13.807091200Z",
     "start_time": "2023-12-19T18:33:13.775054200Z"
    }
   },
   "id": "2dd13d5280d9729d"
  },
  {
   "cell_type": "markdown",
   "source": [
    "Получаем количество уникальных значений у столбца NAME."
   ],
   "metadata": {
    "collapsed": false
   },
   "id": "fcb2d9c155f94e2d"
  },
  {
   "cell_type": "code",
   "execution_count": 8,
   "outputs": [
    {
     "data": {
      "text/plain": "4"
     },
     "execution_count": 8,
     "metadata": {},
     "output_type": "execute_result"
    }
   ],
   "source": [
    "terraria[\"CLASS\"].nunique()"
   ],
   "metadata": {
    "collapsed": false,
    "ExecuteTime": {
     "end_time": "2023-12-19T18:34:17.133907500Z",
     "start_time": "2023-12-19T18:34:17.133400600Z"
    }
   },
   "id": "a9e9d95ef12daa70"
  },
  {
   "cell_type": "markdown",
   "source": [
    "Получаем количество уникальных значений у столбца CLASS."
   ],
   "metadata": {
    "collapsed": false
   },
   "id": "c9858afc620b42e4"
  },
  {
   "cell_type": "code",
   "execution_count": 9,
   "outputs": [
    {
     "data": {
      "text/plain": "16"
     },
     "execution_count": 9,
     "metadata": {},
     "output_type": "execute_result"
    }
   ],
   "source": [
    "terraria[\"GAME PROGRESSION\"].nunique()"
   ],
   "metadata": {
    "collapsed": false,
    "ExecuteTime": {
     "end_time": "2023-12-19T18:34:32.010721600Z",
     "start_time": "2023-12-19T18:34:32.005774700Z"
    }
   },
   "id": "4e255d238f45d1ce"
  },
  {
   "cell_type": "markdown",
   "source": [
    "Получаем количество уникальных значений у столбца GAME PROGRESSION."
   ],
   "metadata": {
    "collapsed": false
   },
   "id": "d66e685ae8e49d69"
  },
  {
   "cell_type": "code",
   "execution_count": 10,
   "outputs": [
    {
     "data": {
      "text/plain": "165"
     },
     "execution_count": 10,
     "metadata": {},
     "output_type": "execute_result"
    }
   ],
   "source": [
    "terraria[\"DPS (SINGLE TARGET)\"].nunique()"
   ],
   "metadata": {
    "collapsed": false,
    "ExecuteTime": {
     "end_time": "2023-12-19T18:35:17.893122500Z",
     "start_time": "2023-12-19T18:35:17.888614700Z"
    }
   },
   "id": "b36de00357b3b913"
  },
  {
   "cell_type": "markdown",
   "source": [
    "Получаем количество уникальных значений у столбца DPS (SINGLE TARGET)."
   ],
   "metadata": {
    "collapsed": false
   },
   "id": "b3754622a10ef2dc"
  },
  {
   "cell_type": "code",
   "execution_count": 11,
   "outputs": [
    {
     "data": {
      "text/plain": "156"
     },
     "execution_count": 11,
     "metadata": {},
     "output_type": "execute_result"
    }
   ],
   "source": [
    "terraria[\"DPS (MULTI TARGET)\"].nunique()"
   ],
   "metadata": {
    "collapsed": false,
    "ExecuteTime": {
     "end_time": "2023-12-19T18:35:33.576018700Z",
     "start_time": "2023-12-19T18:35:33.560239700Z"
    }
   },
   "id": "e63b44898f151d12"
  },
  {
   "cell_type": "markdown",
   "source": [
    "Получаем количество уникальных значений у столбца DPS (MULTI TARGET)."
   ],
   "metadata": {
    "collapsed": false
   },
   "id": "b7df09cc248f61ec"
  },
  {
   "cell_type": "code",
   "execution_count": 12,
   "outputs": [
    {
     "data": {
      "text/plain": "15"
     },
     "execution_count": 12,
     "metadata": {},
     "output_type": "execute_result"
    }
   ],
   "source": [
    "terraria[\"DPS (SINGLE TARGET + PROYECTILE ONLY)\"].nunique()"
   ],
   "metadata": {
    "collapsed": false,
    "ExecuteTime": {
     "end_time": "2023-12-19T18:35:52.275870200Z",
     "start_time": "2023-12-19T18:35:52.243515600Z"
    }
   },
   "id": "3686833f5e9bd257"
  },
  {
   "cell_type": "markdown",
   "source": [
    "Получаем количество уникальных значений у столбца DPS (SINGLE TARGET + PROJECTILE ONLY)."
   ],
   "metadata": {
    "collapsed": false
   },
   "id": "48485afc3496128"
  },
  {
   "cell_type": "code",
   "execution_count": 13,
   "outputs": [
    {
     "data": {
      "text/plain": "17"
     },
     "execution_count": 13,
     "metadata": {},
     "output_type": "execute_result"
    }
   ],
   "source": [
    "terraria[\"DPS (MULTI TARGET + PROYECTILE ONLY)\"].nunique()"
   ],
   "metadata": {
    "collapsed": false,
    "ExecuteTime": {
     "end_time": "2023-12-19T18:36:26.021231100Z",
     "start_time": "2023-12-19T18:36:26.005371900Z"
    }
   },
   "id": "42eccf65fa0110c7"
  },
  {
   "cell_type": "markdown",
   "source": [
    "Получаем количество уникальных значений у столбца DPS(MULTI TARGET + PROJECTILE ONLY)."
   ],
   "metadata": {
    "collapsed": false
   },
   "id": "ef3650235244b43e"
  },
  {
   "cell_type": "code",
   "execution_count": 14,
   "outputs": [
    {
     "data": {
      "text/plain": "34"
     },
     "execution_count": 14,
     "metadata": {},
     "output_type": "execute_result"
    }
   ],
   "source": [
    "terraria[\"OBSERVATIONS\"].nunique()"
   ],
   "metadata": {
    "collapsed": false,
    "ExecuteTime": {
     "end_time": "2023-12-19T18:36:43.946737300Z",
     "start_time": "2023-12-19T18:36:43.938255100Z"
    }
   },
   "id": "51063b7bd605325f"
  },
  {
   "cell_type": "markdown",
   "source": [
    "Получаем количество уникальных значений у столбца OBSERVATIONS."
   ],
   "metadata": {
    "collapsed": false
   },
   "id": "1e96044f3db0f9f9"
  },
  {
   "cell_type": "code",
   "execution_count": 15,
   "outputs": [
    {
     "data": {
      "text/plain": "                      NAME     CLASS GAME PROGRESSION  DPS (SINGLE TARGET)  \\\n169        Flower of Frost      Mage         Post-WoF                  180   \n130           Magic Dagger      Mage         Post-WoF                  223   \n66             Toxic Flask      Mage    Post-Plantera                  398   \n227              Flamelash      Mage   Post-Skeletron                  100   \n132           Cursed Flame      Mage         Post-WoF                  220   \n..                     ...       ...              ...                  ...   \n251           Spider Staff  Summoner         Post-WoF                   80   \n364           Ballista Rod  Summoner         Pre-Boss                   25   \n248            Optic Staff  Summoner       Post-Twins                   80   \n73   Rainbow Crystal Staff  Summoner    Post-Moonlord                  350   \n394     Lightning Aura Rod  Summoner         Pre-Boss                    8   \n\n     DPS (MULTI TARGET)  DPS (SINGLE TARGET + PROYECTILE ONLY)  \\\n169                 NaN                                    NaN   \n130               621.0                                    NaN   \n66                984.0                                    NaN   \n227               180.0                                    NaN   \n132               443.0                                    NaN   \n..                  ...                                    ...   \n251               230.0                                    NaN   \n364                80.0                                    NaN   \n248               280.0                                    NaN   \n73               1000.0                                    NaN   \n394                24.0                                    NaN   \n\n     DPS (MULTI TARGET + PROYECTILE ONLY)       OBSERVATIONS  \n169                                   NaN    Does not pierce  \n130                                   NaN  Pierces 2 dummies  \n66                                    NaN                NaN  \n227                                   NaN                NaN  \n132                                   NaN  Pierces 2 dummies  \n..                                    ...                ...  \n251                                   NaN                NaN  \n364                                   NaN                NaN  \n248                                   NaN                NaN  \n73                                    NaN                NaN  \n394                                   NaN                NaN  \n\n[395 rows x 8 columns]",
      "text/html": "<div>\n<style scoped>\n    .dataframe tbody tr th:only-of-type {\n        vertical-align: middle;\n    }\n\n    .dataframe tbody tr th {\n        vertical-align: top;\n    }\n\n    .dataframe thead th {\n        text-align: right;\n    }\n</style>\n<table border=\"1\" class=\"dataframe\">\n  <thead>\n    <tr style=\"text-align: right;\">\n      <th></th>\n      <th>NAME</th>\n      <th>CLASS</th>\n      <th>GAME PROGRESSION</th>\n      <th>DPS (SINGLE TARGET)</th>\n      <th>DPS (MULTI TARGET)</th>\n      <th>DPS (SINGLE TARGET + PROYECTILE ONLY)</th>\n      <th>DPS (MULTI TARGET + PROYECTILE ONLY)</th>\n      <th>OBSERVATIONS</th>\n    </tr>\n  </thead>\n  <tbody>\n    <tr>\n      <th>169</th>\n      <td>Flower of Frost</td>\n      <td>Mage</td>\n      <td>Post-WoF</td>\n      <td>180</td>\n      <td>NaN</td>\n      <td>NaN</td>\n      <td>NaN</td>\n      <td>Does not pierce</td>\n    </tr>\n    <tr>\n      <th>130</th>\n      <td>Magic Dagger</td>\n      <td>Mage</td>\n      <td>Post-WoF</td>\n      <td>223</td>\n      <td>621.0</td>\n      <td>NaN</td>\n      <td>NaN</td>\n      <td>Pierces 2 dummies</td>\n    </tr>\n    <tr>\n      <th>66</th>\n      <td>Toxic Flask</td>\n      <td>Mage</td>\n      <td>Post-Plantera</td>\n      <td>398</td>\n      <td>984.0</td>\n      <td>NaN</td>\n      <td>NaN</td>\n      <td>NaN</td>\n    </tr>\n    <tr>\n      <th>227</th>\n      <td>Flamelash</td>\n      <td>Mage</td>\n      <td>Post-Skeletron</td>\n      <td>100</td>\n      <td>180.0</td>\n      <td>NaN</td>\n      <td>NaN</td>\n      <td>NaN</td>\n    </tr>\n    <tr>\n      <th>132</th>\n      <td>Cursed Flame</td>\n      <td>Mage</td>\n      <td>Post-WoF</td>\n      <td>220</td>\n      <td>443.0</td>\n      <td>NaN</td>\n      <td>NaN</td>\n      <td>Pierces 2 dummies</td>\n    </tr>\n    <tr>\n      <th>...</th>\n      <td>...</td>\n      <td>...</td>\n      <td>...</td>\n      <td>...</td>\n      <td>...</td>\n      <td>...</td>\n      <td>...</td>\n      <td>...</td>\n    </tr>\n    <tr>\n      <th>251</th>\n      <td>Spider Staff</td>\n      <td>Summoner</td>\n      <td>Post-WoF</td>\n      <td>80</td>\n      <td>230.0</td>\n      <td>NaN</td>\n      <td>NaN</td>\n      <td>NaN</td>\n    </tr>\n    <tr>\n      <th>364</th>\n      <td>Ballista Rod</td>\n      <td>Summoner</td>\n      <td>Pre-Boss</td>\n      <td>25</td>\n      <td>80.0</td>\n      <td>NaN</td>\n      <td>NaN</td>\n      <td>NaN</td>\n    </tr>\n    <tr>\n      <th>248</th>\n      <td>Optic Staff</td>\n      <td>Summoner</td>\n      <td>Post-Twins</td>\n      <td>80</td>\n      <td>280.0</td>\n      <td>NaN</td>\n      <td>NaN</td>\n      <td>NaN</td>\n    </tr>\n    <tr>\n      <th>73</th>\n      <td>Rainbow Crystal Staff</td>\n      <td>Summoner</td>\n      <td>Post-Moonlord</td>\n      <td>350</td>\n      <td>1000.0</td>\n      <td>NaN</td>\n      <td>NaN</td>\n      <td>NaN</td>\n    </tr>\n    <tr>\n      <th>394</th>\n      <td>Lightning Aura Rod</td>\n      <td>Summoner</td>\n      <td>Pre-Boss</td>\n      <td>8</td>\n      <td>24.0</td>\n      <td>NaN</td>\n      <td>NaN</td>\n      <td>NaN</td>\n    </tr>\n  </tbody>\n</table>\n<p>395 rows × 8 columns</p>\n</div>"
     },
     "execution_count": 15,
     "metadata": {},
     "output_type": "execute_result"
    }
   ],
   "source": [
    "terraria.sort_values(by=\"CLASS\")"
   ],
   "metadata": {
    "collapsed": false,
    "ExecuteTime": {
     "end_time": "2023-12-19T18:36:59.175481500Z",
     "start_time": "2023-12-19T18:36:59.127805100Z"
    }
   },
   "id": "95726a44426f9b3d"
  },
  {
   "cell_type": "markdown",
   "source": [
    "С помощью sort_values сортируем элементы по столбцу CLASS."
   ],
   "metadata": {
    "collapsed": false
   },
   "id": "bea7107816828ae7"
  },
  {
   "cell_type": "code",
   "execution_count": 3,
   "outputs": [
    {
     "data": {
      "text/plain": "                NAME   CLASS GAME PROGRESSION  DPS (SINGLE TARGET)  \\\n196        Blue Moon   Melee   Post-Skeletron                  130   \n197          Cascade   Melee   Post-Skeletron                  130   \n198    Combat Wrench   Melee   Post-Skeletron                  130   \n199        Flamarang   Melee  Post-Brain/Worm                  130   \n200     Flying Knife   Melee         Post-WoF                  130   \n201          Handgun  Ranger   Post-Skeletron                  130   \n202  Palladium Sword   Melee         Post-WoF                  130   \n203         Starfury   Melee         Pre-Boss                  130   \n\n     DPS (MULTI TARGET)  DPS (SINGLE TARGET + PROYECTILE ONLY)  \\\n196               400.0                                    NaN   \n197               130.0                                    NaN   \n198               450.0                                    NaN   \n199               180.0                                    NaN   \n200               450.0                                    NaN   \n201                 NaN                                    NaN   \n202               400.0                                    NaN   \n203               260.0                                   50.0   \n\n     DPS (MULTI TARGET + PROYECTILE ONLY)     OBSERVATIONS  \n196                                   NaN              NaN  \n197                                   NaN              NaN  \n198                                   NaN              NaN  \n199                                   NaN              NaN  \n200                                   NaN              NaN  \n201                                   NaN  Does not pierce  \n202                                   NaN              NaN  \n203                                 110.0   Only 2 Dummies  ",
      "text/html": "<div>\n<style scoped>\n    .dataframe tbody tr th:only-of-type {\n        vertical-align: middle;\n    }\n\n    .dataframe tbody tr th {\n        vertical-align: top;\n    }\n\n    .dataframe thead th {\n        text-align: right;\n    }\n</style>\n<table border=\"1\" class=\"dataframe\">\n  <thead>\n    <tr style=\"text-align: right;\">\n      <th></th>\n      <th>NAME</th>\n      <th>CLASS</th>\n      <th>GAME PROGRESSION</th>\n      <th>DPS (SINGLE TARGET)</th>\n      <th>DPS (MULTI TARGET)</th>\n      <th>DPS (SINGLE TARGET + PROYECTILE ONLY)</th>\n      <th>DPS (MULTI TARGET + PROYECTILE ONLY)</th>\n      <th>OBSERVATIONS</th>\n    </tr>\n  </thead>\n  <tbody>\n    <tr>\n      <th>196</th>\n      <td>Blue Moon</td>\n      <td>Melee</td>\n      <td>Post-Skeletron</td>\n      <td>130</td>\n      <td>400.0</td>\n      <td>NaN</td>\n      <td>NaN</td>\n      <td>NaN</td>\n    </tr>\n    <tr>\n      <th>197</th>\n      <td>Cascade</td>\n      <td>Melee</td>\n      <td>Post-Skeletron</td>\n      <td>130</td>\n      <td>130.0</td>\n      <td>NaN</td>\n      <td>NaN</td>\n      <td>NaN</td>\n    </tr>\n    <tr>\n      <th>198</th>\n      <td>Combat Wrench</td>\n      <td>Melee</td>\n      <td>Post-Skeletron</td>\n      <td>130</td>\n      <td>450.0</td>\n      <td>NaN</td>\n      <td>NaN</td>\n      <td>NaN</td>\n    </tr>\n    <tr>\n      <th>199</th>\n      <td>Flamarang</td>\n      <td>Melee</td>\n      <td>Post-Brain/Worm</td>\n      <td>130</td>\n      <td>180.0</td>\n      <td>NaN</td>\n      <td>NaN</td>\n      <td>NaN</td>\n    </tr>\n    <tr>\n      <th>200</th>\n      <td>Flying Knife</td>\n      <td>Melee</td>\n      <td>Post-WoF</td>\n      <td>130</td>\n      <td>450.0</td>\n      <td>NaN</td>\n      <td>NaN</td>\n      <td>NaN</td>\n    </tr>\n    <tr>\n      <th>201</th>\n      <td>Handgun</td>\n      <td>Ranger</td>\n      <td>Post-Skeletron</td>\n      <td>130</td>\n      <td>NaN</td>\n      <td>NaN</td>\n      <td>NaN</td>\n      <td>Does not pierce</td>\n    </tr>\n    <tr>\n      <th>202</th>\n      <td>Palladium Sword</td>\n      <td>Melee</td>\n      <td>Post-WoF</td>\n      <td>130</td>\n      <td>400.0</td>\n      <td>NaN</td>\n      <td>NaN</td>\n      <td>NaN</td>\n    </tr>\n    <tr>\n      <th>203</th>\n      <td>Starfury</td>\n      <td>Melee</td>\n      <td>Pre-Boss</td>\n      <td>130</td>\n      <td>260.0</td>\n      <td>50.0</td>\n      <td>110.0</td>\n      <td>Only 2 Dummies</td>\n    </tr>\n  </tbody>\n</table>\n</div>"
     },
     "execution_count": 3,
     "metadata": {},
     "output_type": "execute_result"
    }
   ],
   "source": [
    "terraria[terraria['DPS (SINGLE TARGET)'] == 130]"
   ],
   "metadata": {
    "collapsed": false,
    "ExecuteTime": {
     "end_time": "2023-12-20T18:56:14.125294900Z",
     "start_time": "2023-12-20T18:56:14.077172200Z"
    }
   },
   "id": "ce5e476bfbb94aac"
  },
  {
   "cell_type": "markdown",
   "source": [
    "Выводим все оружия с уроном по одиночной цели 130."
   ],
   "metadata": {
    "collapsed": false
   },
   "id": "4360286771d58c3"
  },
  {
   "cell_type": "code",
   "execution_count": 19,
   "outputs": [
    {
     "data": {
      "text/plain": "                NAME     CLASS GAME PROGRESSION  DPS (SINGLE TARGET)  \\\n208  The Bee's Knees    Ranger    Post-QueenBee                  117   \n216        Hive-Five     Melee    Post-QueenBee                  110   \n226       Bee Keeper     Melee    Post-QueenBee                  100   \n232          Bee Gun      Mage    Post-QueenBee                   95   \n388     Hornet Staff  Summoner    Post-QueenBee                   15   \n\n     DPS (MULTI TARGET)  DPS (SINGLE TARGET + PROYECTILE ONLY)  \\\n208               190.0                                    NaN   \n216               130.0                                    NaN   \n226               280.0                                    NaN   \n232               270.0                                    NaN   \n388                 NaN                                    NaN   \n\n     DPS (MULTI TARGET + PROYECTILE ONLY)  \\\n208                                   NaN   \n216                                   NaN   \n226                                   NaN   \n232                                   NaN   \n388                                   NaN   \n\n                                          OBSERVATIONS  \n208  Damage does not take the bees follow up damage...  \n216                                                NaN  \n226                                                NaN  \n232                                                NaN  \n388                                    Does not pierce  ",
      "text/html": "<div>\n<style scoped>\n    .dataframe tbody tr th:only-of-type {\n        vertical-align: middle;\n    }\n\n    .dataframe tbody tr th {\n        vertical-align: top;\n    }\n\n    .dataframe thead th {\n        text-align: right;\n    }\n</style>\n<table border=\"1\" class=\"dataframe\">\n  <thead>\n    <tr style=\"text-align: right;\">\n      <th></th>\n      <th>NAME</th>\n      <th>CLASS</th>\n      <th>GAME PROGRESSION</th>\n      <th>DPS (SINGLE TARGET)</th>\n      <th>DPS (MULTI TARGET)</th>\n      <th>DPS (SINGLE TARGET + PROYECTILE ONLY)</th>\n      <th>DPS (MULTI TARGET + PROYECTILE ONLY)</th>\n      <th>OBSERVATIONS</th>\n    </tr>\n  </thead>\n  <tbody>\n    <tr>\n      <th>208</th>\n      <td>The Bee's Knees</td>\n      <td>Ranger</td>\n      <td>Post-QueenBee</td>\n      <td>117</td>\n      <td>190.0</td>\n      <td>NaN</td>\n      <td>NaN</td>\n      <td>Damage does not take the bees follow up damage...</td>\n    </tr>\n    <tr>\n      <th>216</th>\n      <td>Hive-Five</td>\n      <td>Melee</td>\n      <td>Post-QueenBee</td>\n      <td>110</td>\n      <td>130.0</td>\n      <td>NaN</td>\n      <td>NaN</td>\n      <td>NaN</td>\n    </tr>\n    <tr>\n      <th>226</th>\n      <td>Bee Keeper</td>\n      <td>Melee</td>\n      <td>Post-QueenBee</td>\n      <td>100</td>\n      <td>280.0</td>\n      <td>NaN</td>\n      <td>NaN</td>\n      <td>NaN</td>\n    </tr>\n    <tr>\n      <th>232</th>\n      <td>Bee Gun</td>\n      <td>Mage</td>\n      <td>Post-QueenBee</td>\n      <td>95</td>\n      <td>270.0</td>\n      <td>NaN</td>\n      <td>NaN</td>\n      <td>NaN</td>\n    </tr>\n    <tr>\n      <th>388</th>\n      <td>Hornet Staff</td>\n      <td>Summoner</td>\n      <td>Post-QueenBee</td>\n      <td>15</td>\n      <td>NaN</td>\n      <td>NaN</td>\n      <td>NaN</td>\n      <td>Does not pierce</td>\n    </tr>\n  </tbody>\n</table>\n</div>"
     },
     "execution_count": 19,
     "metadata": {},
     "output_type": "execute_result"
    }
   ],
   "source": [
    "terraria[terraria['GAME PROGRESSION'] == \"Post-QueenBee\"]"
   ],
   "metadata": {
    "collapsed": false,
    "ExecuteTime": {
     "end_time": "2023-12-19T18:40:03.365950800Z",
     "start_time": "2023-12-19T18:40:03.317967300Z"
    }
   },
   "id": "ac5ca1b7a737f8f9"
  },
  {
   "cell_type": "markdown",
   "source": [
    "Выводим все оружия, идущие после Королевы пчёл по столбу GAME 'PROGRESSION'."
   ],
   "metadata": {
    "collapsed": false
   },
   "id": "d5f447c7efeede84"
  },
  {
   "cell_type": "code",
   "execution_count": 5,
   "outputs": [],
   "source": [
    "delD = terraria.drop_duplicates()"
   ],
   "metadata": {
    "collapsed": false,
    "ExecuteTime": {
     "end_time": "2023-12-20T19:06:59.131430300Z",
     "start_time": "2023-12-20T19:06:59.090035900Z"
    }
   },
   "id": "c8fb1d54ec38c2b1"
  },
  {
   "cell_type": "markdown",
   "source": [
    "Создаем переменную без дубликатов."
   ],
   "metadata": {
    "collapsed": false
   },
   "id": "60498facbb119658"
  },
  {
   "cell_type": "code",
   "execution_count": 21,
   "outputs": [
    {
     "data": {
      "text/plain": "array(['Melee', 'Mage', 'Ranger', 'Summoner'], dtype=object)"
     },
     "execution_count": 21,
     "metadata": {},
     "output_type": "execute_result"
    }
   ],
   "source": [
    "terraria[\"CLASS\"].unique()"
   ],
   "metadata": {
    "collapsed": false,
    "ExecuteTime": {
     "end_time": "2023-12-19T18:40:57.989018200Z",
     "start_time": "2023-12-19T18:40:57.973141Z"
    }
   },
   "id": "3986d6246d447496"
  },
  {
   "cell_type": "markdown",
   "source": [
    "Выводим с помощью функции unique массив со всеми уникальными строками в столбце CLASS, а также тип объекта."
   ],
   "metadata": {
    "collapsed": false
   },
   "id": "85556315b34af9a"
  },
  {
   "cell_type": "code",
   "execution_count": 22,
   "outputs": [
    {
     "data": {
      "text/plain": "array(['Post-Moonlord', 'Post-Cultist', 'Post-WoF', 'Post-EoL',\n       'Post-Golem', 'Post-Plantera', 'Post-Destroyer',\n       'Post-SkeletronPrime', 'Post-Brain/Worm', 'Post-Twins',\n       'Post-Skeletron', 'Pre-Boss', 'Post-QueenBee', 'Post-Deerclops',\n       'Post-Eye', 'Post-QueenSlime'], dtype=object)"
     },
     "execution_count": 22,
     "metadata": {},
     "output_type": "execute_result"
    }
   ],
   "source": [
    "terraria[\"GAME PROGRESSION\"].unique()"
   ],
   "metadata": {
    "collapsed": false,
    "ExecuteTime": {
     "end_time": "2023-12-19T18:41:17.204188800Z",
     "start_time": "2023-12-19T18:41:17.194012100Z"
    }
   },
   "id": "d05f38533e3db483"
  },
  {
   "cell_type": "markdown",
   "source": [
    "Выводим с помощью функции unique массив со всеми уникальными строками в столбце GAME PROGRESSION, а также тип объекта."
   ],
   "metadata": {
    "collapsed": false
   },
   "id": "ccfe364f85d8283b"
  },
  {
   "cell_type": "code",
   "execution_count": 24,
   "outputs": [
    {
     "data": {
      "text/plain": "(395, 8)"
     },
     "execution_count": 24,
     "metadata": {},
     "output_type": "execute_result"
    }
   ],
   "source": [
    "terraria.shape"
   ],
   "metadata": {
    "collapsed": false,
    "ExecuteTime": {
     "end_time": "2023-12-19T18:41:32.641473400Z",
     "start_time": "2023-12-19T18:41:32.610032100Z"
    }
   },
   "id": "45e759897846700"
  },
  {
   "cell_type": "markdown",
   "source": [
    "Выводим размер 'фрейма' terraria."
   ],
   "metadata": {
    "collapsed": false
   },
   "id": "27af0a58d5156320"
  },
  {
   "cell_type": "code",
   "execution_count": 25,
   "outputs": [
    {
     "data": {
      "text/plain": "       DPS (SINGLE TARGET)  DPS (MULTI TARGET)  \\\ncount           395.000000          309.000000   \nmean            262.273418          651.543689   \nstd             437.778258         1102.016874   \nmin               8.000000           17.000000   \n25%              58.000000          150.000000   \n50%             130.000000          350.000000   \n75%             289.000000          771.000000   \nmax            4800.000000        13000.000000   \n\n       DPS (SINGLE TARGET + PROYECTILE ONLY)  \\\ncount                              25.000000   \nmean                              348.600000   \nstd                               380.502738   \nmin                                30.000000   \n25%                                80.000000   \n50%                               250.000000   \n75%                               500.000000   \nmax                              1500.000000   \n\n       DPS (MULTI TARGET + PROYECTILE ONLY)  \ncount                             19.000000  \nmean                             961.315789  \nstd                             1036.653057  \nmin                               75.000000  \n25%                              250.000000  \n50%                              650.000000  \n75%                             1050.000000  \nmax                             3700.000000  ",
      "text/html": "<div>\n<style scoped>\n    .dataframe tbody tr th:only-of-type {\n        vertical-align: middle;\n    }\n\n    .dataframe tbody tr th {\n        vertical-align: top;\n    }\n\n    .dataframe thead th {\n        text-align: right;\n    }\n</style>\n<table border=\"1\" class=\"dataframe\">\n  <thead>\n    <tr style=\"text-align: right;\">\n      <th></th>\n      <th>DPS (SINGLE TARGET)</th>\n      <th>DPS (MULTI TARGET)</th>\n      <th>DPS (SINGLE TARGET + PROYECTILE ONLY)</th>\n      <th>DPS (MULTI TARGET + PROYECTILE ONLY)</th>\n    </tr>\n  </thead>\n  <tbody>\n    <tr>\n      <th>count</th>\n      <td>395.000000</td>\n      <td>309.000000</td>\n      <td>25.000000</td>\n      <td>19.000000</td>\n    </tr>\n    <tr>\n      <th>mean</th>\n      <td>262.273418</td>\n      <td>651.543689</td>\n      <td>348.600000</td>\n      <td>961.315789</td>\n    </tr>\n    <tr>\n      <th>std</th>\n      <td>437.778258</td>\n      <td>1102.016874</td>\n      <td>380.502738</td>\n      <td>1036.653057</td>\n    </tr>\n    <tr>\n      <th>min</th>\n      <td>8.000000</td>\n      <td>17.000000</td>\n      <td>30.000000</td>\n      <td>75.000000</td>\n    </tr>\n    <tr>\n      <th>25%</th>\n      <td>58.000000</td>\n      <td>150.000000</td>\n      <td>80.000000</td>\n      <td>250.000000</td>\n    </tr>\n    <tr>\n      <th>50%</th>\n      <td>130.000000</td>\n      <td>350.000000</td>\n      <td>250.000000</td>\n      <td>650.000000</td>\n    </tr>\n    <tr>\n      <th>75%</th>\n      <td>289.000000</td>\n      <td>771.000000</td>\n      <td>500.000000</td>\n      <td>1050.000000</td>\n    </tr>\n    <tr>\n      <th>max</th>\n      <td>4800.000000</td>\n      <td>13000.000000</td>\n      <td>1500.000000</td>\n      <td>3700.000000</td>\n    </tr>\n  </tbody>\n</table>\n</div>"
     },
     "execution_count": 25,
     "metadata": {},
     "output_type": "execute_result"
    }
   ],
   "source": [
    "terraria.describe()"
   ],
   "metadata": {
    "collapsed": false,
    "ExecuteTime": {
     "end_time": "2023-12-19T18:41:40.072097600Z",
     "start_time": "2023-12-19T18:41:40.051301800Z"
    }
   },
   "id": "6f54e8d0b288026c"
  },
  {
   "cell_type": "markdown",
   "source": [
    "Функция describe генерирует нам описательную статистику."
   ],
   "metadata": {
    "collapsed": false
   },
   "id": "c98222cacba2f5e4"
  },
  {
   "cell_type": "code",
   "execution_count": 26,
   "outputs": [
    {
     "data": {
      "text/plain": "DPS (SINGLE TARGET)                      8\nDPS (MULTI TARGET)                       8\nDPS (SINGLE TARGET + PROYECTILE ONLY)    8\nDPS (MULTI TARGET + PROYECTILE ONLY)     8\ndtype: int64"
     },
     "execution_count": 26,
     "metadata": {},
     "output_type": "execute_result"
    }
   ],
   "source": [
    "terraria.describe().count()"
   ],
   "metadata": {
    "collapsed": false,
    "ExecuteTime": {
     "end_time": "2023-12-19T18:41:56.059884400Z",
     "start_time": "2023-12-19T18:41:56.047548200Z"
    }
   },
   "id": "11de5ad86925d8fa"
  },
  {
   "cell_type": "markdown",
   "source": [
    "Выполняем подсчёт нашей описательной статистики."
   ],
   "metadata": {
    "collapsed": false
   },
   "id": "7310ef6a60ad7017"
  },
  {
   "cell_type": "code",
   "execution_count": 27,
   "outputs": [
    {
     "data": {
      "text/plain": "NAME                                            Zenith\nCLASS                                            Melee\nGAME PROGRESSION                         Post-Moonlord\nDPS (SINGLE TARGET)                               4800\nDPS (MULTI TARGET)                             13000.0\nDPS (SINGLE TARGET + PROYECTILE ONLY)              NaN\nDPS (MULTI TARGET + PROYECTILE ONLY)               NaN\nOBSERVATIONS                                       NaN\nName: 0, dtype: object"
     },
     "execution_count": 27,
     "metadata": {},
     "output_type": "execute_result"
    }
   ],
   "source": [
    "loc = terraria.loc[0]\n",
    "loc"
   ],
   "metadata": {
    "collapsed": false,
    "ExecuteTime": {
     "end_time": "2023-12-19T18:43:29.911030800Z",
     "start_time": "2023-12-19T18:43:29.896236600Z"
    }
   },
   "id": "45b97b0266641905"
  },
  {
   "cell_type": "markdown",
   "source": [
    "Создаем переменную loc, где хранится вся информация о 0 элементе 'фрейма'.\n",
    "В данном случае это меч Zenith."
   ],
   "metadata": {
    "collapsed": false
   },
   "id": "1e8f1cd76061fd2a"
  },
  {
   "cell_type": "code",
   "execution_count": 28,
   "outputs": [
    {
     "data": {
      "text/plain": "   CLASS  DPS (SINGLE TARGET)\n0  Melee                 4800\n1   Mage                 3657\n2  Melee                 2700\n3  Melee                 2200",
      "text/html": "<div>\n<style scoped>\n    .dataframe tbody tr th:only-of-type {\n        vertical-align: middle;\n    }\n\n    .dataframe tbody tr th {\n        vertical-align: top;\n    }\n\n    .dataframe thead th {\n        text-align: right;\n    }\n</style>\n<table border=\"1\" class=\"dataframe\">\n  <thead>\n    <tr style=\"text-align: right;\">\n      <th></th>\n      <th>CLASS</th>\n      <th>DPS (SINGLE TARGET)</th>\n    </tr>\n  </thead>\n  <tbody>\n    <tr>\n      <th>0</th>\n      <td>Melee</td>\n      <td>4800</td>\n    </tr>\n    <tr>\n      <th>1</th>\n      <td>Mage</td>\n      <td>3657</td>\n    </tr>\n    <tr>\n      <th>2</th>\n      <td>Melee</td>\n      <td>2700</td>\n    </tr>\n    <tr>\n      <th>3</th>\n      <td>Melee</td>\n      <td>2200</td>\n    </tr>\n  </tbody>\n</table>\n</div>"
     },
     "execution_count": 28,
     "metadata": {},
     "output_type": "execute_result"
    }
   ],
   "source": [
    "rowdata = terraria.loc[[0, 1, 2, 3], ['CLASS', 'DPS (SINGLE TARGET)']]\n",
    "rowdata"
   ],
   "metadata": {
    "collapsed": false,
    "ExecuteTime": {
     "end_time": "2023-12-19T18:43:54.140377600Z",
     "start_time": "2023-12-19T18:43:54.108669800Z"
    }
   },
   "id": "6e825a969bddfad8"
  },
  {
   "cell_type": "markdown",
   "source": [
    "Создаем переменную rowdata, где получаем с элементов [0,1,2,3] информацию - какого класса оружие и какой урон по одиночной цели."
   ],
   "metadata": {
    "collapsed": false
   },
   "id": "dddf7330eef85868"
  },
  {
   "cell_type": "code",
   "execution_count": 29,
   "outputs": [
    {
     "data": {
      "text/plain": "                         NAME     CLASS     GAME PROGRESSION  \\\n41      Stardust Dragon Staff  Summoner         Post-Cultist   \n60               Kaleidoscope  Summoner             Post-EoL   \n71               Dark Harvest  Summoner        Post-Plantera   \n73      Rainbow Crystal Staff  Summoner        Post-Moonlord   \n93               Morning Star  Summoner        Post-Plantera   \n174                  Durendal  Summoner       Post-Destroyer   \n175        Lunar Portal Staff  Summoner        Post-Moonlord   \n181            Ballista Staff  Summoner           Post-Golem   \n186                 Cool Whip  Summoner             Post-WoF   \n187        Desert Tiger Staff  Summoner        Post-Plantera   \n194               Terraprisma  Summoner             Post-EoL   \n219  Staff of the Frost Hydra  Summoner        Post-Plantera   \n222                Xeno Staff  Summoner           Post-Golem   \n229       Stardust Cell Staff  Summoner         Post-Cultist   \n230             Tempest Staff  Summoner             Post-WoF   \n235      Explosive Trap Staff  Summoner           Post-Golem   \n236               Firecracker  Summoner             Post-WoF   \n244       Deadly Sphere Staff  Summoner  Post-SkeletronPrime   \n248               Optic Staff  Summoner           Post-Twins   \n250               Raven Staff  Summoner        Post-Plantera   \n251              Spider Staff  Summoner             Post-WoF   \n264                Spinal Tap  Summoner       Post-Skeletron   \n266        Vampire Frog Staff  Summoner             Pre-Boss   \n267             Ballista Cane  Summoner       Post-Destroyer   \n271      Lightning Aura Staff  Summoner           Post-Golem   \n272               Pygmy Staff  Summoner        Post-Plantera   \n273        Queen Spider Staff  Summoner             Post-WoF   \n283          Flameburst Staff  Summoner           Post-Golem   \n288              Pirate Staff  Summoner             Post-WoF   \n303          Abigail's Flower  Summoner             Pre-Boss   \n322                 Snapthorn  Summoner             Pre-Boss   \n332       Explosive Trap Cane  Summoner       Post-Destroyer   \n347               Blade Staff  Summoner      Post-QueenSlime   \n351              Leather Whip  Summoner             Pre-Boss   \n352            Sanguine Staff  Summoner             Post-WoF   \n354               Slime Staff  Summoner             Pre-Boss   \n364              Ballista Rod  Summoner             Pre-Boss   \n367           Flameburst Cane  Summoner       Post-Destroyer   \n379         Houndius Shootius  Summoner       Post-Deerclops   \n380       Lightning Aura Cane  Summoner       Post-Destroyer   \n387        Explosive Trap Rod  Summoner             Pre-Boss   \n388              Hornet Staff  Summoner        Post-QueenBee   \n389                 Imp Staff  Summoner      Post-Brain/Worm   \n391               Finch Staff  Summoner             Pre-Boss   \n392            Flameburst Rod  Summoner             Pre-Boss   \n393               Flinx Staff  Summoner             Pre-Boss   \n394        Lightning Aura Rod  Summoner             Pre-Boss   \n\n     DPS (SINGLE TARGET)  DPS (MULTI TARGET)  \\\n41                   580              1700.0   \n60                   420              1200.0   \n71                   350               950.0   \n73                   350              1000.0   \n93                   300               850.0   \n174                  170               450.0   \n175                  170               600.0   \n181                  160               420.0   \n186                  150               350.0   \n187                  150               340.0   \n194                  140               490.0   \n219                  110               300.0   \n222                  110                 NaN   \n229                  100               300.0   \n230                  100                 NaN   \n235                   90               245.0   \n236                   90               200.0   \n244                   80               320.0   \n248                   80               280.0   \n250                   80                 NaN   \n251                   80               230.0   \n264                   70               215.0   \n266                   70               200.0   \n267                   65               200.0   \n271                   65               200.0   \n272                   65                 NaN   \n273                   65                 NaN   \n283                   60               115.0   \n288                   60               165.0   \n303                   50                17.0   \n322                   45               100.0   \n332                   40               120.0   \n347                   30                85.0   \n351                   30                60.0   \n352                   30               120.0   \n354                   30                80.0   \n364                   25                80.0   \n367                   25                50.0   \n379                   20                 NaN   \n380                   20                60.0   \n387                   15                45.0   \n388                   15                 NaN   \n389                   15                75.0   \n391                   10                25.0   \n392                    8                18.0   \n393                    8                70.0   \n394                    8                24.0   \n\n     DPS (SINGLE TARGET + PROYECTILE ONLY)  \\\n41                                     NaN   \n60                                     NaN   \n71                                     NaN   \n73                                     NaN   \n93                                     NaN   \n174                                    NaN   \n175                                    NaN   \n181                                    NaN   \n186                                   35.0   \n187                                    NaN   \n194                                    NaN   \n219                                    NaN   \n222                                    NaN   \n229                                    NaN   \n230                                    NaN   \n235                                    NaN   \n236                                    NaN   \n244                                    NaN   \n248                                    NaN   \n250                                    NaN   \n251                                    NaN   \n264                                    NaN   \n266                                    NaN   \n267                                    NaN   \n271                                    NaN   \n272                                    NaN   \n273                                    NaN   \n283                                    NaN   \n288                                    NaN   \n303                                    NaN   \n322                                    NaN   \n332                                    NaN   \n347                                    NaN   \n351                                    NaN   \n352                                    NaN   \n354                                    NaN   \n364                                    NaN   \n367                                    NaN   \n379                                    NaN   \n380                                    NaN   \n387                                    NaN   \n388                                    NaN   \n389                                    NaN   \n391                                    NaN   \n392                                    NaN   \n393                                    NaN   \n394                                    NaN   \n\n     DPS (MULTI TARGET + PROYECTILE ONLY)      OBSERVATIONS  \n41                                    NaN               NaN  \n60                                    NaN               NaN  \n71                                    NaN               NaN  \n73                                    NaN               NaN  \n93                                    NaN               NaN  \n174                                   NaN               NaN  \n175                                   NaN               NaN  \n181                                   NaN               NaN  \n186                                  75.0               NaN  \n187                                   NaN               NaN  \n194                                   NaN       If daylight  \n219                                   NaN               NaN  \n222                                   NaN   Does not pierce  \n229                                   NaN   Does not pierce  \n230                                   NaN   Does not pierce  \n235                                   NaN               NaN  \n236                                   NaN               NaN  \n244                                   NaN               NaN  \n248                                   NaN               NaN  \n250                                   NaN   Does not pierce  \n251                                   NaN               NaN  \n264                                   NaN               NaN  \n266                                   NaN               NaN  \n267                                   NaN               NaN  \n271                                   NaN               NaN  \n272                                   NaN   Does not pierce  \n273                                   NaN   Does not pierce  \n283                                   NaN  Only two dummies  \n288                                   NaN               NaN  \n303                                   NaN               NaN  \n322                                   NaN               NaN  \n332                                   NaN               NaN  \n347                                   NaN               NaN  \n351                                   NaN               NaN  \n352                                   NaN               NaN  \n354                                   NaN               NaN  \n364                                   NaN               NaN  \n367                                   NaN  Only two dummies  \n379                                   NaN   Does not pierce  \n380                                   NaN               NaN  \n387                                   NaN               NaN  \n388                                   NaN   Does not pierce  \n389                                   NaN               NaN  \n391                                   NaN               NaN  \n392                                   NaN  Only two dummies  \n393                                   NaN               NaN  \n394                                   NaN               NaN  ",
      "text/html": "<div>\n<style scoped>\n    .dataframe tbody tr th:only-of-type {\n        vertical-align: middle;\n    }\n\n    .dataframe tbody tr th {\n        vertical-align: top;\n    }\n\n    .dataframe thead th {\n        text-align: right;\n    }\n</style>\n<table border=\"1\" class=\"dataframe\">\n  <thead>\n    <tr style=\"text-align: right;\">\n      <th></th>\n      <th>NAME</th>\n      <th>CLASS</th>\n      <th>GAME PROGRESSION</th>\n      <th>DPS (SINGLE TARGET)</th>\n      <th>DPS (MULTI TARGET)</th>\n      <th>DPS (SINGLE TARGET + PROYECTILE ONLY)</th>\n      <th>DPS (MULTI TARGET + PROYECTILE ONLY)</th>\n      <th>OBSERVATIONS</th>\n    </tr>\n  </thead>\n  <tbody>\n    <tr>\n      <th>41</th>\n      <td>Stardust Dragon Staff</td>\n      <td>Summoner</td>\n      <td>Post-Cultist</td>\n      <td>580</td>\n      <td>1700.0</td>\n      <td>NaN</td>\n      <td>NaN</td>\n      <td>NaN</td>\n    </tr>\n    <tr>\n      <th>60</th>\n      <td>Kaleidoscope</td>\n      <td>Summoner</td>\n      <td>Post-EoL</td>\n      <td>420</td>\n      <td>1200.0</td>\n      <td>NaN</td>\n      <td>NaN</td>\n      <td>NaN</td>\n    </tr>\n    <tr>\n      <th>71</th>\n      <td>Dark Harvest</td>\n      <td>Summoner</td>\n      <td>Post-Plantera</td>\n      <td>350</td>\n      <td>950.0</td>\n      <td>NaN</td>\n      <td>NaN</td>\n      <td>NaN</td>\n    </tr>\n    <tr>\n      <th>73</th>\n      <td>Rainbow Crystal Staff</td>\n      <td>Summoner</td>\n      <td>Post-Moonlord</td>\n      <td>350</td>\n      <td>1000.0</td>\n      <td>NaN</td>\n      <td>NaN</td>\n      <td>NaN</td>\n    </tr>\n    <tr>\n      <th>93</th>\n      <td>Morning Star</td>\n      <td>Summoner</td>\n      <td>Post-Plantera</td>\n      <td>300</td>\n      <td>850.0</td>\n      <td>NaN</td>\n      <td>NaN</td>\n      <td>NaN</td>\n    </tr>\n    <tr>\n      <th>174</th>\n      <td>Durendal</td>\n      <td>Summoner</td>\n      <td>Post-Destroyer</td>\n      <td>170</td>\n      <td>450.0</td>\n      <td>NaN</td>\n      <td>NaN</td>\n      <td>NaN</td>\n    </tr>\n    <tr>\n      <th>175</th>\n      <td>Lunar Portal Staff</td>\n      <td>Summoner</td>\n      <td>Post-Moonlord</td>\n      <td>170</td>\n      <td>600.0</td>\n      <td>NaN</td>\n      <td>NaN</td>\n      <td>NaN</td>\n    </tr>\n    <tr>\n      <th>181</th>\n      <td>Ballista Staff</td>\n      <td>Summoner</td>\n      <td>Post-Golem</td>\n      <td>160</td>\n      <td>420.0</td>\n      <td>NaN</td>\n      <td>NaN</td>\n      <td>NaN</td>\n    </tr>\n    <tr>\n      <th>186</th>\n      <td>Cool Whip</td>\n      <td>Summoner</td>\n      <td>Post-WoF</td>\n      <td>150</td>\n      <td>350.0</td>\n      <td>35.0</td>\n      <td>75.0</td>\n      <td>NaN</td>\n    </tr>\n    <tr>\n      <th>187</th>\n      <td>Desert Tiger Staff</td>\n      <td>Summoner</td>\n      <td>Post-Plantera</td>\n      <td>150</td>\n      <td>340.0</td>\n      <td>NaN</td>\n      <td>NaN</td>\n      <td>NaN</td>\n    </tr>\n    <tr>\n      <th>194</th>\n      <td>Terraprisma</td>\n      <td>Summoner</td>\n      <td>Post-EoL</td>\n      <td>140</td>\n      <td>490.0</td>\n      <td>NaN</td>\n      <td>NaN</td>\n      <td>If daylight</td>\n    </tr>\n    <tr>\n      <th>219</th>\n      <td>Staff of the Frost Hydra</td>\n      <td>Summoner</td>\n      <td>Post-Plantera</td>\n      <td>110</td>\n      <td>300.0</td>\n      <td>NaN</td>\n      <td>NaN</td>\n      <td>NaN</td>\n    </tr>\n    <tr>\n      <th>222</th>\n      <td>Xeno Staff</td>\n      <td>Summoner</td>\n      <td>Post-Golem</td>\n      <td>110</td>\n      <td>NaN</td>\n      <td>NaN</td>\n      <td>NaN</td>\n      <td>Does not pierce</td>\n    </tr>\n    <tr>\n      <th>229</th>\n      <td>Stardust Cell Staff</td>\n      <td>Summoner</td>\n      <td>Post-Cultist</td>\n      <td>100</td>\n      <td>300.0</td>\n      <td>NaN</td>\n      <td>NaN</td>\n      <td>Does not pierce</td>\n    </tr>\n    <tr>\n      <th>230</th>\n      <td>Tempest Staff</td>\n      <td>Summoner</td>\n      <td>Post-WoF</td>\n      <td>100</td>\n      <td>NaN</td>\n      <td>NaN</td>\n      <td>NaN</td>\n      <td>Does not pierce</td>\n    </tr>\n    <tr>\n      <th>235</th>\n      <td>Explosive Trap Staff</td>\n      <td>Summoner</td>\n      <td>Post-Golem</td>\n      <td>90</td>\n      <td>245.0</td>\n      <td>NaN</td>\n      <td>NaN</td>\n      <td>NaN</td>\n    </tr>\n    <tr>\n      <th>236</th>\n      <td>Firecracker</td>\n      <td>Summoner</td>\n      <td>Post-WoF</td>\n      <td>90</td>\n      <td>200.0</td>\n      <td>NaN</td>\n      <td>NaN</td>\n      <td>NaN</td>\n    </tr>\n    <tr>\n      <th>244</th>\n      <td>Deadly Sphere Staff</td>\n      <td>Summoner</td>\n      <td>Post-SkeletronPrime</td>\n      <td>80</td>\n      <td>320.0</td>\n      <td>NaN</td>\n      <td>NaN</td>\n      <td>NaN</td>\n    </tr>\n    <tr>\n      <th>248</th>\n      <td>Optic Staff</td>\n      <td>Summoner</td>\n      <td>Post-Twins</td>\n      <td>80</td>\n      <td>280.0</td>\n      <td>NaN</td>\n      <td>NaN</td>\n      <td>NaN</td>\n    </tr>\n    <tr>\n      <th>250</th>\n      <td>Raven Staff</td>\n      <td>Summoner</td>\n      <td>Post-Plantera</td>\n      <td>80</td>\n      <td>NaN</td>\n      <td>NaN</td>\n      <td>NaN</td>\n      <td>Does not pierce</td>\n    </tr>\n    <tr>\n      <th>251</th>\n      <td>Spider Staff</td>\n      <td>Summoner</td>\n      <td>Post-WoF</td>\n      <td>80</td>\n      <td>230.0</td>\n      <td>NaN</td>\n      <td>NaN</td>\n      <td>NaN</td>\n    </tr>\n    <tr>\n      <th>264</th>\n      <td>Spinal Tap</td>\n      <td>Summoner</td>\n      <td>Post-Skeletron</td>\n      <td>70</td>\n      <td>215.0</td>\n      <td>NaN</td>\n      <td>NaN</td>\n      <td>NaN</td>\n    </tr>\n    <tr>\n      <th>266</th>\n      <td>Vampire Frog Staff</td>\n      <td>Summoner</td>\n      <td>Pre-Boss</td>\n      <td>70</td>\n      <td>200.0</td>\n      <td>NaN</td>\n      <td>NaN</td>\n      <td>NaN</td>\n    </tr>\n    <tr>\n      <th>267</th>\n      <td>Ballista Cane</td>\n      <td>Summoner</td>\n      <td>Post-Destroyer</td>\n      <td>65</td>\n      <td>200.0</td>\n      <td>NaN</td>\n      <td>NaN</td>\n      <td>NaN</td>\n    </tr>\n    <tr>\n      <th>271</th>\n      <td>Lightning Aura Staff</td>\n      <td>Summoner</td>\n      <td>Post-Golem</td>\n      <td>65</td>\n      <td>200.0</td>\n      <td>NaN</td>\n      <td>NaN</td>\n      <td>NaN</td>\n    </tr>\n    <tr>\n      <th>272</th>\n      <td>Pygmy Staff</td>\n      <td>Summoner</td>\n      <td>Post-Plantera</td>\n      <td>65</td>\n      <td>NaN</td>\n      <td>NaN</td>\n      <td>NaN</td>\n      <td>Does not pierce</td>\n    </tr>\n    <tr>\n      <th>273</th>\n      <td>Queen Spider Staff</td>\n      <td>Summoner</td>\n      <td>Post-WoF</td>\n      <td>65</td>\n      <td>NaN</td>\n      <td>NaN</td>\n      <td>NaN</td>\n      <td>Does not pierce</td>\n    </tr>\n    <tr>\n      <th>283</th>\n      <td>Flameburst Staff</td>\n      <td>Summoner</td>\n      <td>Post-Golem</td>\n      <td>60</td>\n      <td>115.0</td>\n      <td>NaN</td>\n      <td>NaN</td>\n      <td>Only two dummies</td>\n    </tr>\n    <tr>\n      <th>288</th>\n      <td>Pirate Staff</td>\n      <td>Summoner</td>\n      <td>Post-WoF</td>\n      <td>60</td>\n      <td>165.0</td>\n      <td>NaN</td>\n      <td>NaN</td>\n      <td>NaN</td>\n    </tr>\n    <tr>\n      <th>303</th>\n      <td>Abigail's Flower</td>\n      <td>Summoner</td>\n      <td>Pre-Boss</td>\n      <td>50</td>\n      <td>17.0</td>\n      <td>NaN</td>\n      <td>NaN</td>\n      <td>NaN</td>\n    </tr>\n    <tr>\n      <th>322</th>\n      <td>Snapthorn</td>\n      <td>Summoner</td>\n      <td>Pre-Boss</td>\n      <td>45</td>\n      <td>100.0</td>\n      <td>NaN</td>\n      <td>NaN</td>\n      <td>NaN</td>\n    </tr>\n    <tr>\n      <th>332</th>\n      <td>Explosive Trap Cane</td>\n      <td>Summoner</td>\n      <td>Post-Destroyer</td>\n      <td>40</td>\n      <td>120.0</td>\n      <td>NaN</td>\n      <td>NaN</td>\n      <td>NaN</td>\n    </tr>\n    <tr>\n      <th>347</th>\n      <td>Blade Staff</td>\n      <td>Summoner</td>\n      <td>Post-QueenSlime</td>\n      <td>30</td>\n      <td>85.0</td>\n      <td>NaN</td>\n      <td>NaN</td>\n      <td>NaN</td>\n    </tr>\n    <tr>\n      <th>351</th>\n      <td>Leather Whip</td>\n      <td>Summoner</td>\n      <td>Pre-Boss</td>\n      <td>30</td>\n      <td>60.0</td>\n      <td>NaN</td>\n      <td>NaN</td>\n      <td>NaN</td>\n    </tr>\n    <tr>\n      <th>352</th>\n      <td>Sanguine Staff</td>\n      <td>Summoner</td>\n      <td>Post-WoF</td>\n      <td>30</td>\n      <td>120.0</td>\n      <td>NaN</td>\n      <td>NaN</td>\n      <td>NaN</td>\n    </tr>\n    <tr>\n      <th>354</th>\n      <td>Slime Staff</td>\n      <td>Summoner</td>\n      <td>Pre-Boss</td>\n      <td>30</td>\n      <td>80.0</td>\n      <td>NaN</td>\n      <td>NaN</td>\n      <td>NaN</td>\n    </tr>\n    <tr>\n      <th>364</th>\n      <td>Ballista Rod</td>\n      <td>Summoner</td>\n      <td>Pre-Boss</td>\n      <td>25</td>\n      <td>80.0</td>\n      <td>NaN</td>\n      <td>NaN</td>\n      <td>NaN</td>\n    </tr>\n    <tr>\n      <th>367</th>\n      <td>Flameburst Cane</td>\n      <td>Summoner</td>\n      <td>Post-Destroyer</td>\n      <td>25</td>\n      <td>50.0</td>\n      <td>NaN</td>\n      <td>NaN</td>\n      <td>Only two dummies</td>\n    </tr>\n    <tr>\n      <th>379</th>\n      <td>Houndius Shootius</td>\n      <td>Summoner</td>\n      <td>Post-Deerclops</td>\n      <td>20</td>\n      <td>NaN</td>\n      <td>NaN</td>\n      <td>NaN</td>\n      <td>Does not pierce</td>\n    </tr>\n    <tr>\n      <th>380</th>\n      <td>Lightning Aura Cane</td>\n      <td>Summoner</td>\n      <td>Post-Destroyer</td>\n      <td>20</td>\n      <td>60.0</td>\n      <td>NaN</td>\n      <td>NaN</td>\n      <td>NaN</td>\n    </tr>\n    <tr>\n      <th>387</th>\n      <td>Explosive Trap Rod</td>\n      <td>Summoner</td>\n      <td>Pre-Boss</td>\n      <td>15</td>\n      <td>45.0</td>\n      <td>NaN</td>\n      <td>NaN</td>\n      <td>NaN</td>\n    </tr>\n    <tr>\n      <th>388</th>\n      <td>Hornet Staff</td>\n      <td>Summoner</td>\n      <td>Post-QueenBee</td>\n      <td>15</td>\n      <td>NaN</td>\n      <td>NaN</td>\n      <td>NaN</td>\n      <td>Does not pierce</td>\n    </tr>\n    <tr>\n      <th>389</th>\n      <td>Imp Staff</td>\n      <td>Summoner</td>\n      <td>Post-Brain/Worm</td>\n      <td>15</td>\n      <td>75.0</td>\n      <td>NaN</td>\n      <td>NaN</td>\n      <td>NaN</td>\n    </tr>\n    <tr>\n      <th>391</th>\n      <td>Finch Staff</td>\n      <td>Summoner</td>\n      <td>Pre-Boss</td>\n      <td>10</td>\n      <td>25.0</td>\n      <td>NaN</td>\n      <td>NaN</td>\n      <td>NaN</td>\n    </tr>\n    <tr>\n      <th>392</th>\n      <td>Flameburst Rod</td>\n      <td>Summoner</td>\n      <td>Pre-Boss</td>\n      <td>8</td>\n      <td>18.0</td>\n      <td>NaN</td>\n      <td>NaN</td>\n      <td>Only two dummies</td>\n    </tr>\n    <tr>\n      <th>393</th>\n      <td>Flinx Staff</td>\n      <td>Summoner</td>\n      <td>Pre-Boss</td>\n      <td>8</td>\n      <td>70.0</td>\n      <td>NaN</td>\n      <td>NaN</td>\n      <td>NaN</td>\n    </tr>\n    <tr>\n      <th>394</th>\n      <td>Lightning Aura Rod</td>\n      <td>Summoner</td>\n      <td>Pre-Boss</td>\n      <td>8</td>\n      <td>24.0</td>\n      <td>NaN</td>\n      <td>NaN</td>\n      <td>NaN</td>\n    </tr>\n  </tbody>\n</table>\n</div>"
     },
     "execution_count": 29,
     "metadata": {},
     "output_type": "execute_result"
    }
   ],
   "source": [
    "x = terraria.loc[terraria['CLASS'] == 'Summoner']\n",
    "x"
   ],
   "metadata": {
    "collapsed": false,
    "ExecuteTime": {
     "end_time": "2023-12-19T18:44:40.408310600Z",
     "start_time": "2023-12-19T18:44:40.345274100Z"
    }
   },
   "id": "4727789bf950a685"
  },
  {
   "cell_type": "markdown",
   "source": [
    "Создаем переменную x, где получаем все оружия за класс Summoner."
   ],
   "metadata": {
    "collapsed": false
   },
   "id": "f542351804eb7d7f"
  },
  {
   "cell_type": "code",
   "execution_count": 30,
   "outputs": [],
   "source": [
    "deldata = delD.drop(columns=['DPS (SINGLE TARGET + PROYECTILE ONLY)'])"
   ],
   "metadata": {
    "collapsed": false,
    "ExecuteTime": {
     "end_time": "2023-12-19T18:46:01.457496600Z",
     "start_time": "2023-12-19T18:46:01.446776300Z"
    }
   },
   "id": "3c19a49ae1e96002"
  },
  {
   "cell_type": "markdown",
   "source": [
    "Сбрасываем столбец 'DPS (SINGLE TARGET + PROYECTILE ONLY)' в delD."
   ],
   "metadata": {
    "collapsed": false
   },
   "id": "552cfc7c60078619"
  },
  {
   "cell_type": "code",
   "execution_count": 6,
   "outputs": [],
   "source": [
    "replaceD = delD.replace({\"DPS (MULTI TARGET)\" : 'NaN'}, '78')"
   ],
   "metadata": {
    "collapsed": false,
    "ExecuteTime": {
     "end_time": "2023-12-20T19:07:06.157025600Z",
     "start_time": "2023-12-20T19:07:06.121512400Z"
    }
   },
   "id": "761f3341a8f6ee9"
  },
  {
   "cell_type": "markdown",
   "source": [
    "Заменяем в delD все пустые значения DPS по множественной цели на 78."
   ],
   "metadata": {
    "collapsed": false
   },
   "id": "3c2726ff965d7939"
  },
  {
   "cell_type": "code",
   "execution_count": 33,
   "outputs": [],
   "source": [
    "replaceD.to_csv('pooped_terraria.csv', index = False)"
   ],
   "metadata": {
    "collapsed": false,
    "ExecuteTime": {
     "end_time": "2023-12-19T18:47:21.187159Z",
     "start_time": "2023-12-19T18:47:21.170843200Z"
    }
   },
   "id": "6722776459710707"
  },
  {
   "cell_type": "markdown",
   "source": [
    "Записываем наш новый 'фрейм' в файл pooped_terraria.csv."
   ],
   "metadata": {
    "collapsed": false
   },
   "id": "7496f3a133f4f84f"
  },
  {
   "cell_type": "code",
   "execution_count": 34,
   "outputs": [
    {
     "data": {
      "text/plain": "                   NAME     CLASS GAME PROGRESSION  DPS (SINGLE TARGET)  \\\n0                Zenith     Melee    Post-Moonlord                 4800   \n1            Last Prism      Mage    Post-Moonlord                 3657   \n2            Star Wrath     Melee    Post-Moonlord                 2700   \n3             Terrarian     Melee    Post-Moonlord                 2200   \n4              Meowmere     Melee    Post-Moonlord                 2100   \n..                  ...       ...              ...                  ...   \n390         Paper Plane    Ranger         Pre-Boss                   14   \n391         Finch Staff  Summoner         Pre-Boss                   10   \n392      Flameburst Rod  Summoner         Pre-Boss                    8   \n393         Flinx Staff  Summoner         Pre-Boss                    8   \n394  Lightning Aura Rod  Summoner         Pre-Boss                    8   \n\n     DPS (MULTI TARGET)  DPS (SINGLE TARGET + PROYECTILE ONLY)  \\\n0               13000.0                                    NaN   \n1                1142.0                                    NaN   \n2                5800.0                                 1500.0   \n3                4600.0                                  700.0   \n4                6400.0                                 1300.0   \n..                  ...                                    ...   \n390                 NaN                                    NaN   \n391                25.0                                    NaN   \n392                18.0                                    NaN   \n393                70.0                                    NaN   \n394                24.0                                    NaN   \n\n     DPS (MULTI TARGET + PROYECTILE ONLY)      OBSERVATIONS  \n0                                     NaN               NaN  \n1                                     NaN     Fully charged  \n2                                  3700.0               NaN  \n3                                  1000.0               NaN  \n4                                  3400.0               NaN  \n..                                    ...               ...  \n390                                   NaN   Does not pierce  \n391                                   NaN               NaN  \n392                                   NaN  Only two dummies  \n393                                   NaN               NaN  \n394                                   NaN               NaN  \n\n[395 rows x 8 columns]",
      "text/html": "<div>\n<style scoped>\n    .dataframe tbody tr th:only-of-type {\n        vertical-align: middle;\n    }\n\n    .dataframe tbody tr th {\n        vertical-align: top;\n    }\n\n    .dataframe thead th {\n        text-align: right;\n    }\n</style>\n<table border=\"1\" class=\"dataframe\">\n  <thead>\n    <tr style=\"text-align: right;\">\n      <th></th>\n      <th>NAME</th>\n      <th>CLASS</th>\n      <th>GAME PROGRESSION</th>\n      <th>DPS (SINGLE TARGET)</th>\n      <th>DPS (MULTI TARGET)</th>\n      <th>DPS (SINGLE TARGET + PROYECTILE ONLY)</th>\n      <th>DPS (MULTI TARGET + PROYECTILE ONLY)</th>\n      <th>OBSERVATIONS</th>\n    </tr>\n  </thead>\n  <tbody>\n    <tr>\n      <th>0</th>\n      <td>Zenith</td>\n      <td>Melee</td>\n      <td>Post-Moonlord</td>\n      <td>4800</td>\n      <td>13000.0</td>\n      <td>NaN</td>\n      <td>NaN</td>\n      <td>NaN</td>\n    </tr>\n    <tr>\n      <th>1</th>\n      <td>Last Prism</td>\n      <td>Mage</td>\n      <td>Post-Moonlord</td>\n      <td>3657</td>\n      <td>1142.0</td>\n      <td>NaN</td>\n      <td>NaN</td>\n      <td>Fully charged</td>\n    </tr>\n    <tr>\n      <th>2</th>\n      <td>Star Wrath</td>\n      <td>Melee</td>\n      <td>Post-Moonlord</td>\n      <td>2700</td>\n      <td>5800.0</td>\n      <td>1500.0</td>\n      <td>3700.0</td>\n      <td>NaN</td>\n    </tr>\n    <tr>\n      <th>3</th>\n      <td>Terrarian</td>\n      <td>Melee</td>\n      <td>Post-Moonlord</td>\n      <td>2200</td>\n      <td>4600.0</td>\n      <td>700.0</td>\n      <td>1000.0</td>\n      <td>NaN</td>\n    </tr>\n    <tr>\n      <th>4</th>\n      <td>Meowmere</td>\n      <td>Melee</td>\n      <td>Post-Moonlord</td>\n      <td>2100</td>\n      <td>6400.0</td>\n      <td>1300.0</td>\n      <td>3400.0</td>\n      <td>NaN</td>\n    </tr>\n    <tr>\n      <th>...</th>\n      <td>...</td>\n      <td>...</td>\n      <td>...</td>\n      <td>...</td>\n      <td>...</td>\n      <td>...</td>\n      <td>...</td>\n      <td>...</td>\n    </tr>\n    <tr>\n      <th>390</th>\n      <td>Paper Plane</td>\n      <td>Ranger</td>\n      <td>Pre-Boss</td>\n      <td>14</td>\n      <td>NaN</td>\n      <td>NaN</td>\n      <td>NaN</td>\n      <td>Does not pierce</td>\n    </tr>\n    <tr>\n      <th>391</th>\n      <td>Finch Staff</td>\n      <td>Summoner</td>\n      <td>Pre-Boss</td>\n      <td>10</td>\n      <td>25.0</td>\n      <td>NaN</td>\n      <td>NaN</td>\n      <td>NaN</td>\n    </tr>\n    <tr>\n      <th>392</th>\n      <td>Flameburst Rod</td>\n      <td>Summoner</td>\n      <td>Pre-Boss</td>\n      <td>8</td>\n      <td>18.0</td>\n      <td>NaN</td>\n      <td>NaN</td>\n      <td>Only two dummies</td>\n    </tr>\n    <tr>\n      <th>393</th>\n      <td>Flinx Staff</td>\n      <td>Summoner</td>\n      <td>Pre-Boss</td>\n      <td>8</td>\n      <td>70.0</td>\n      <td>NaN</td>\n      <td>NaN</td>\n      <td>NaN</td>\n    </tr>\n    <tr>\n      <th>394</th>\n      <td>Lightning Aura Rod</td>\n      <td>Summoner</td>\n      <td>Pre-Boss</td>\n      <td>8</td>\n      <td>24.0</td>\n      <td>NaN</td>\n      <td>NaN</td>\n      <td>NaN</td>\n    </tr>\n  </tbody>\n</table>\n<p>395 rows × 8 columns</p>\n</div>"
     },
     "execution_count": 34,
     "metadata": {},
     "output_type": "execute_result"
    }
   ],
   "source": [
    "reader = pd.read_csv(\"pooped_terraria.csv\")\n",
    "reader"
   ],
   "metadata": {
    "collapsed": false,
    "ExecuteTime": {
     "end_time": "2023-12-19T18:48:32.219942100Z",
     "start_time": "2023-12-19T18:48:32.156959100Z"
    }
   },
   "id": "b4f3e978f84c53a2"
  },
  {
   "cell_type": "markdown",
   "source": [
    "'Читаем' наш 'pooped_terraria.csv'."
   ],
   "metadata": {
    "collapsed": false
   },
   "id": "80ae19447b83c651"
  },
  {
   "cell_type": "code",
   "execution_count": 35,
   "outputs": [
    {
     "data": {
      "text/plain": "Index(['NAME', 'CLASS', 'GAME PROGRESSION', 'DPS (SINGLE TARGET)',\n       'DPS (MULTI TARGET)', 'DPS (SINGLE TARGET + PROYECTILE ONLY)',\n       'DPS (MULTI TARGET + PROYECTILE ONLY)', 'OBSERVATIONS'],\n      dtype='object')"
     },
     "execution_count": 35,
     "metadata": {},
     "output_type": "execute_result"
    }
   ],
   "source": [
    "terraria.columns"
   ],
   "metadata": {
    "collapsed": false,
    "ExecuteTime": {
     "end_time": "2023-12-19T18:48:49.756577900Z",
     "start_time": "2023-12-19T18:48:49.709350500Z"
    }
   },
   "id": "8865075f7b34566a"
  },
  {
   "cell_type": "markdown",
   "source": [
    "Выводим все колонки из 'фрейма' terraria.сл"
   ],
   "metadata": {
    "collapsed": false
   },
   "id": "c09baa2696626272"
  },
  {
   "cell_type": "markdown",
   "source": [
    "Вывод: мы познакомились с Jupyter Notebook, а также изучили основные функции в библиотеке pandas для более простой работы с CSV-файлами."
   ],
   "metadata": {
    "collapsed": false
   },
   "id": "fa21cd3fd449957e"
  }
 ],
 "metadata": {
  "kernelspec": {
   "display_name": "Python 3",
   "language": "python",
   "name": "python3"
  },
  "language_info": {
   "codemirror_mode": {
    "name": "ipython",
    "version": 2
   },
   "file_extension": ".py",
   "mimetype": "text/x-python",
   "name": "python",
   "nbconvert_exporter": "python",
   "pygments_lexer": "ipython2",
   "version": "2.7.6"
  }
 },
 "nbformat": 4,
 "nbformat_minor": 5
}
